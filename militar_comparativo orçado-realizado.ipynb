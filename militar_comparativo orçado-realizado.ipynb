{
 "cells": [
  {
   "cell_type": "code",
   "execution_count": 164,
   "metadata": {},
   "outputs": [],
   "source": [
    "import pandas as pd\n",
    "import pyautogui\n",
    "import time\n",
    "import pyperclip"
   ]
  },
  {
   "cell_type": "code",
   "execution_count": 165,
   "metadata": {},
   "outputs": [],
   "source": [
    "df = pd.read_excel('plano de amortização.xlsx', sheet_name= 12)\n"
   ]
  },
  {
   "cell_type": "code",
   "execution_count": 190,
   "metadata": {},
   "outputs": [],
   "source": [
    "projetado1 = df.loc[0:11, 'Projetado']\n",
    "projetado2 = df.loc[12:27, 'Projetado']\n",
    "projetado3 = df.loc[28:31, 'Projetado']\n",
    "\n",
    "executado1 = df.loc[0:11, 'Executado']\n",
    "executado2 = df.loc[12:27, 'Executado']\n",
    "executado3 = df.loc[28:31, 'Executado']\n",
    "\n"
   ]
  },
  {
   "cell_type": "code",
   "execution_count": 191,
   "metadata": {},
   "outputs": [],
   "source": [
    "time.sleep(5)\n",
    "pyautogui.position() #1538\n",
    "a , b = pyautogui.position() \n",
    "a\n",
    "\n",
    "f = a + 150\n",
    "f\n",
    "\n",
    "t = 0 #tempo de intervaldo entre blocos"
   ]
  },
  {
   "cell_type": "code",
   "execution_count": 192,
   "metadata": {},
   "outputs": [
    {
     "data": {
      "text/plain": [
       "626"
      ]
     },
     "metadata": {},
     "output_type": "display_data"
    }
   ],
   "source": [
    "time.sleep(t)\n",
    "pyautogui.PAUSE = 0.1\n",
    "pyautogui.click(a, b, clicks = 2)\n",
    "i = b\n",
    "for n in projetado1.index:\n",
    "    x = projetado1[n]\n",
    "    pyautogui.click(a, i, clicks = 2)\n",
    "    pyautogui.hotkey('ctrl', 'a')\n",
    "    pyperclip.copy(str(x))\n",
    "    pyautogui.hotkey('ctrl', 'v')\n",
    "    pyautogui.press('enter')\n",
    "    pyautogui.press('down')\n",
    "    i = i + 20\n",
    "display(i)"
   ]
  },
  {
   "cell_type": "code",
   "execution_count": 193,
   "metadata": {},
   "outputs": [
    {
     "data": {
      "text/plain": [
       "946"
      ]
     },
     "metadata": {},
     "output_type": "display_data"
    }
   ],
   "source": [
    "time.sleep(t)\n",
    "pyautogui.PAUSE = 0.1\n",
    "i = b + 12*20\n",
    "pyautogui.click(a, i, clicks = 2)\n",
    "\n",
    "for n in projetado2.index:\n",
    "    x = projetado2[n]\n",
    "    pyautogui.click(a, i, clicks = 2)\n",
    "    pyautogui.hotkey('ctrl', 'a')\n",
    "    pyperclip.copy(str(x))\n",
    "    pyautogui.hotkey('ctrl', 'v')\n",
    "    pyautogui.press('enter')\n",
    "    pyautogui.press('down')\n",
    "    i = i + 20\n",
    "display(i)\n"
   ]
  },
  {
   "cell_type": "code",
   "execution_count": 194,
   "metadata": {},
   "outputs": [],
   "source": [
    "time.sleep(t)\n",
    "for n in range(4):\n",
    "    pyautogui.press('down')"
   ]
  },
  {
   "cell_type": "code",
   "execution_count": 195,
   "metadata": {},
   "outputs": [
    {
     "data": {
      "text/plain": [
       "948"
      ]
     },
     "metadata": {},
     "output_type": "display_data"
    }
   ],
   "source": [
    "time.sleep(t)\n",
    "i = 948\n",
    "pyautogui.PAUSE = 0.1\n",
    "i = i - 4*20\n",
    "\n",
    "for n in projetado3.index:\n",
    "    x = projetado3[n]\n",
    "    pyautogui.click(a, i, clicks = 2)\n",
    "    pyautogui.hotkey('ctrl', 'a')\n",
    "    pyperclip.copy(str(x))\n",
    "    pyautogui.hotkey('ctrl', 'v')\n",
    "    pyautogui.press('enter')\n",
    "    pyautogui.press('down')\n",
    "    i = i + 20\n",
    "display(i)"
   ]
  },
  {
   "cell_type": "code",
   "execution_count": 196,
   "metadata": {},
   "outputs": [],
   "source": [
    "#VOLTANDO AO TOPO\n",
    "time.sleep(t)\n",
    "pyautogui.press('enter')"
   ]
  },
  {
   "cell_type": "code",
   "execution_count": 197,
   "metadata": {},
   "outputs": [
    {
     "data": {
      "text/plain": [
       "626"
      ]
     },
     "metadata": {},
     "output_type": "display_data"
    }
   ],
   "source": [
    "time.sleep(t)\n",
    "pyautogui.PAUSE = 0.1\n",
    "pyautogui.click(f, b, clicks = 2)\n",
    "i = b\n",
    "for n in executado1.index:\n",
    "    x = executado1[n]\n",
    "    pyautogui.click(f, i, clicks = 2)\n",
    "    pyautogui.hotkey('ctrl', 'a')\n",
    "    pyperclip.copy(str(x))\n",
    "    pyautogui.hotkey('ctrl', 'v')\n",
    "    pyautogui.press('enter')\n",
    "    pyautogui.press('down')\n",
    "    i = i + 20\n",
    "display(i)"
   ]
  },
  {
   "cell_type": "code",
   "execution_count": 198,
   "metadata": {},
   "outputs": [
    {
     "data": {
      "text/plain": [
       "946"
      ]
     },
     "metadata": {},
     "output_type": "display_data"
    }
   ],
   "source": [
    "time.sleep(t)\n",
    "i = 618\n",
    "pyautogui.PAUSE = 0.1\n",
    "i = b + 12*20\n",
    "pyautogui.click(f, i, clicks = 2)\n",
    "\n",
    "for n in executado2.index:\n",
    "    x = executado2[n]\n",
    "    pyautogui.click(f, i, clicks = 2)\n",
    "    pyautogui.hotkey('ctrl', 'a')\n",
    "    pyperclip.copy(str(x))\n",
    "    pyautogui.hotkey('ctrl', 'v')\n",
    "    pyautogui.press('enter')\n",
    "    pyautogui.press('down')\n",
    "    i = i + 20\n",
    "display(i)\n"
   ]
  },
  {
   "cell_type": "code",
   "execution_count": 199,
   "metadata": {},
   "outputs": [],
   "source": [
    "time.sleep(t)\n",
    "for n in range(4):\n",
    "    pyautogui.press('down')"
   ]
  },
  {
   "cell_type": "code",
   "execution_count": 200,
   "metadata": {},
   "outputs": [
    {
     "data": {
      "text/plain": [
       "948"
      ]
     },
     "metadata": {},
     "output_type": "display_data"
    }
   ],
   "source": [
    "time.sleep(t)\n",
    "i = 948\n",
    "pyautogui.PAUSE = 0.1\n",
    "i = i - 4*20\n",
    "pyautogui.click(f, i, clicks = 2)\n",
    "\n",
    "for n in executado3.index:\n",
    "    x = executado3[n]\n",
    "    pyautogui.click(f, i, clicks = 2)\n",
    "    pyautogui.hotkey('ctrl', 'a')\n",
    "    pyperclip.copy(str(x))\n",
    "    pyautogui.hotkey('ctrl', 'v')\n",
    "    pyautogui.press('enter')\n",
    "    pyautogui.press('down')\n",
    "    i = i + 20\n",
    "display(i)"
   ]
  }
 ],
 "metadata": {
  "kernelspec": {
   "display_name": "Python 3.10.8 64-bit (microsoft store)",
   "language": "python",
   "name": "python3"
  },
  "language_info": {
   "codemirror_mode": {
    "name": "ipython",
    "version": 3
   },
   "file_extension": ".py",
   "mimetype": "text/x-python",
   "name": "python",
   "nbconvert_exporter": "python",
   "pygments_lexer": "ipython3",
   "version": "3.10.8"
  },
  "orig_nbformat": 4,
  "vscode": {
   "interpreter": {
    "hash": "98bfc96c88827eb559aec2321a084f4367a52548f8a2346d493bf636bf0b6745"
   }
  }
 },
 "nbformat": 4,
 "nbformat_minor": 2
}
