{
 "cells": [
  {
   "cell_type": "code",
   "execution_count": 11,
   "metadata": {},
   "outputs": [],
   "source": [
    "import openpyxl as py\n",
    "import pyautogui\n",
    "import pyperclip \n",
    "import time \n",
    "import pandas as pd\n",
    "import pyperclip as pyper"
   ]
  },
  {
   "cell_type": "code",
   "execution_count": 32,
   "metadata": {},
   "outputs": [
    {
     "data": {
      "text/html": [
       "<div>\n",
       "<style scoped>\n",
       "    .dataframe tbody tr th:only-of-type {\n",
       "        vertical-align: middle;\n",
       "    }\n",
       "\n",
       "    .dataframe tbody tr th {\n",
       "        vertical-align: top;\n",
       "    }\n",
       "\n",
       "    .dataframe thead th {\n",
       "        text-align: right;\n",
       "    }\n",
       "</style>\n",
       "<table border=\"1\" class=\"dataframe\">\n",
       "  <thead>\n",
       "    <tr style=\"text-align: right;\">\n",
       "      <th></th>\n",
       "      <th>Descrição</th>\n",
       "      <th>Ano1</th>\n",
       "      <th>Ano2</th>\n",
       "      <th>Ano3</th>\n",
       "    </tr>\n",
       "  </thead>\n",
       "  <tbody>\n",
       "    <tr>\n",
       "      <th>0</th>\n",
       "      <td>BASE CADASTRAL</td>\n",
       "      <td>NaN</td>\n",
       "      <td>NaN</td>\n",
       "      <td>NaN</td>\n",
       "    </tr>\n",
       "    <tr>\n",
       "      <th>1</th>\n",
       "      <td>ESTATÍSTICAS DA POPULAÇÃO COBERTA</td>\n",
       "      <td>NaN</td>\n",
       "      <td>NaN</td>\n",
       "      <td>NaN</td>\n",
       "    </tr>\n",
       "    <tr>\n",
       "      <th>2</th>\n",
       "      <td>Quantidade de Segurados Ativos</td>\n",
       "      <td>11111.0</td>\n",
       "      <td>11222.11</td>\n",
       "      <td>11334.3311</td>\n",
       "    </tr>\n",
       "    <tr>\n",
       "      <th>3</th>\n",
       "      <td>Quantidade de Aposentados</td>\n",
       "      <td>2222.0</td>\n",
       "      <td>2244.22</td>\n",
       "      <td>2266.6622</td>\n",
       "    </tr>\n",
       "    <tr>\n",
       "      <th>4</th>\n",
       "      <td>Quantidade de Pensionistas</td>\n",
       "      <td>3333.0</td>\n",
       "      <td>3366.33</td>\n",
       "      <td>3399.9933</td>\n",
       "    </tr>\n",
       "    <tr>\n",
       "      <th>5</th>\n",
       "      <td>Média da Base de Cálculo dos Segurados A...</td>\n",
       "      <td>4444.0</td>\n",
       "      <td>4488.44</td>\n",
       "      <td>4533.3244</td>\n",
       "    </tr>\n",
       "    <tr>\n",
       "      <th>6</th>\n",
       "      <td>Média do Valor do Beneficio dos Aposentados</td>\n",
       "      <td>5555.0</td>\n",
       "      <td>5610.55</td>\n",
       "      <td>5666.6555</td>\n",
       "    </tr>\n",
       "    <tr>\n",
       "      <th>7</th>\n",
       "      <td>Média do Valor do Benefícios dos Pension...</td>\n",
       "      <td>6666.0</td>\n",
       "      <td>6732.66</td>\n",
       "      <td>6799.9866</td>\n",
       "    </tr>\n",
       "    <tr>\n",
       "      <th>8</th>\n",
       "      <td>Idade Média dos Segurados Ativos</td>\n",
       "      <td>7777.0</td>\n",
       "      <td>7854.77</td>\n",
       "      <td>7933.3177</td>\n",
       "    </tr>\n",
       "    <tr>\n",
       "      <th>9</th>\n",
       "      <td>Idade Média dos Aposentados</td>\n",
       "      <td>8888.0</td>\n",
       "      <td>8976.88</td>\n",
       "      <td>9066.6488</td>\n",
       "    </tr>\n",
       "    <tr>\n",
       "      <th>10</th>\n",
       "      <td>Idade Média dos Pensionistas</td>\n",
       "      <td>9999.0</td>\n",
       "      <td>10098.99</td>\n",
       "      <td>10199.9799</td>\n",
       "    </tr>\n",
       "  </tbody>\n",
       "</table>\n",
       "</div>"
      ],
      "text/plain": [
       "                                            Descrição     Ano1      Ano2  \\\n",
       "0                                      BASE CADASTRAL      NaN       NaN   \n",
       "1                   ESTATÍSTICAS DA POPULAÇÃO COBERTA      NaN       NaN   \n",
       "2                      Quantidade de Segurados Ativos  11111.0  11222.11   \n",
       "3                           Quantidade de Aposentados   2222.0   2244.22   \n",
       "4                          Quantidade de Pensionistas   3333.0   3366.33   \n",
       "5         Média da Base de Cálculo dos Segurados A...   4444.0   4488.44   \n",
       "6         Média do Valor do Beneficio dos Aposentados   5555.0   5610.55   \n",
       "7         Média do Valor do Benefícios dos Pension...   6666.0   6732.66   \n",
       "8                    Idade Média dos Segurados Ativos   7777.0   7854.77   \n",
       "9                         Idade Média dos Aposentados   8888.0   8976.88   \n",
       "10                       Idade Média dos Pensionistas   9999.0  10098.99   \n",
       "\n",
       "          Ano3  \n",
       "0          NaN  \n",
       "1          NaN  \n",
       "2   11334.3311  \n",
       "3    2266.6622  \n",
       "4    3399.9933  \n",
       "5    4533.3244  \n",
       "6    5666.6555  \n",
       "7    6799.9866  \n",
       "8    7933.3177  \n",
       "9    9066.6488  \n",
       "10  10199.9799  "
      ]
     },
     "metadata": {},
     "output_type": "display_data"
    }
   ],
   "source": [
    "df = pd.read_excel('plano de amortização.xlsx', sheet_name=12)\n",
    "display(df)"
   ]
  },
  {
   "cell_type": "code",
   "execution_count": 31,
   "metadata": {},
   "outputs": [],
   "source": [
    "#Ano1\n",
    "estatistica_ano1 = df.loc[2:13, 'Ano1']\n",
    "\n",
    "#Ano2\n",
    "estatistica_ano2 = df.loc[2:13, 'Ano2']\n",
    "\n",
    "#Ano3\n",
    "estatistica_ano3 = df.loc[2:13, 'Ano3']"
   ]
  },
  {
   "cell_type": "code",
   "execution_count": 36,
   "metadata": {},
   "outputs": [],
   "source": [
    "t = 3\n",
    "time.sleep(t)\n",
    "a , b = pyautogui.position()\n",
    "\n",
    "f = a + 190\n",
    "g = f + 190\n"
   ]
  },
  {
   "cell_type": "markdown",
   "metadata": {},
   "source": [
    "Ano 1"
   ]
  },
  {
   "cell_type": "code",
   "execution_count": 34,
   "metadata": {},
   "outputs": [
    {
     "data": {
      "text/plain": [
       "599"
      ]
     },
     "metadata": {},
     "output_type": "display_data"
    }
   ],
   "source": [
    "time.sleep(t)\n",
    "i = b\n",
    "pyautogui.click(x=a, y=b, clicks = 2) \n",
    "\n",
    "for n in estatistica_ano1.index:\n",
    "    x = estatistica_ano1[n]\n",
    "    pyautogui.click(x=a, y=i, clicks = 2) \n",
    "    pyperclip.copy(str(x))\n",
    "    pyautogui.hotkey('ctrl', 'a')    \n",
    "    pyautogui.hotkey('ctrl', 'v')\n",
    "    pyautogui.press('enter')\n",
    "    pyautogui.press('down')\n",
    "    i = i + 20\n",
    "display(i)"
   ]
  },
  {
   "cell_type": "markdown",
   "metadata": {},
   "source": [
    "Ano 2"
   ]
  },
  {
   "cell_type": "code",
   "execution_count": 37,
   "metadata": {},
   "outputs": [
    {
     "data": {
      "text/plain": [
       "605"
      ]
     },
     "metadata": {},
     "output_type": "display_data"
    }
   ],
   "source": [
    "time.sleep(t)\n",
    "i = b\n",
    "pyautogui.click(x=f, y=b, clicks = 2) \n",
    "\n",
    "for n in estatistica_ano1.index:\n",
    "    x = estatistica_ano1[n]\n",
    "    pyautogui.click(x=f, y=i, clicks = 2) \n",
    "    pyperclip.copy(str(x))\n",
    "    pyautogui.hotkey('ctrl', 'a')\n",
    "    pyautogui.hotkey('ctrl', 'v')\n",
    "    pyautogui.press('enter')\n",
    "    pyautogui.press('down')\n",
    "    i = i + 20\n",
    "display(i)"
   ]
  },
  {
   "cell_type": "markdown",
   "metadata": {},
   "source": [
    "Ano 3"
   ]
  },
  {
   "cell_type": "code",
   "execution_count": 39,
   "metadata": {},
   "outputs": [
    {
     "data": {
      "text/plain": [
       "605"
      ]
     },
     "metadata": {},
     "output_type": "display_data"
    }
   ],
   "source": [
    "time.sleep(t)\n",
    "i = b\n",
    "pyautogui.click(x=g, y=b, clicks = 2) \n",
    "\n",
    "for n in estatistica_ano1.index:\n",
    "    x = estatistica_ano1[n]\n",
    "    pyautogui.click(x=g, y=i, clicks = 2) \n",
    "    pyperclip.copy(str(x))\n",
    "    pyautogui.hotkey('ctrl', 'a')\n",
    "    pyautogui.hotkey('ctrl', 'v')\n",
    "    pyautogui.press('enter')\n",
    "    pyautogui.press('down')\n",
    "    i = i + 20\n",
    "display(i)"
   ]
  }
 ],
 "metadata": {
  "kernelspec": {
   "display_name": "Python 3.10.6 64-bit",
   "language": "python",
   "name": "python3"
  },
  "language_info": {
   "codemirror_mode": {
    "name": "ipython",
    "version": 3
   },
   "file_extension": ".py",
   "mimetype": "text/x-python",
   "name": "python",
   "nbconvert_exporter": "python",
   "pygments_lexer": "ipython3",
   "version": "3.10.6"
  },
  "orig_nbformat": 4,
  "vscode": {
   "interpreter": {
    "hash": "362142306c1946e77b98b1440356f6294178db9dc23b3227efca562eff197b29"
   }
  }
 },
 "nbformat": 4,
 "nbformat_minor": 2
}
