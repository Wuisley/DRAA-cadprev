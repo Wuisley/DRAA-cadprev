{
 "cells": [
  {
   "cell_type": "code",
   "execution_count": 318,
   "metadata": {},
   "outputs": [],
   "source": [
    "import pandas as pd\n",
    "import openpyxl\n",
    "import time\n",
    "import pyautogui\n",
    "import pyperclip"
   ]
  },
  {
   "cell_type": "code",
   "execution_count": 319,
   "metadata": {},
   "outputs": [
    {
     "data": {
      "text/html": [
       "<div>\n",
       "<style scoped>\n",
       "    .dataframe tbody tr th:only-of-type {\n",
       "        vertical-align: middle;\n",
       "    }\n",
       "\n",
       "    .dataframe tbody tr th {\n",
       "        vertical-align: top;\n",
       "    }\n",
       "\n",
       "    .dataframe thead th {\n",
       "        text-align: right;\n",
       "    }\n",
       "</style>\n",
       "<table border=\"1\" class=\"dataframe\">\n",
       "  <thead>\n",
       "    <tr style=\"text-align: right;\">\n",
       "      <th></th>\n",
       "      <th>Descrição</th>\n",
       "      <th>Geração Atual</th>\n",
       "      <th>Geração Futura</th>\n",
       "    </tr>\n",
       "  </thead>\n",
       "  <tbody>\n",
       "    <tr>\n",
       "      <th>0</th>\n",
       "      <td>Valor Atual dos Salários Futuros</td>\n",
       "      <td>3.721406e+11</td>\n",
       "      <td>1.111111e+10</td>\n",
       "    </tr>\n",
       "    <tr>\n",
       "      <th>1</th>\n",
       "      <td>ATIVOS GARANTIDORES DOS COMPROMISSOS DO PLANO ...</td>\n",
       "      <td>NaN</td>\n",
       "      <td>NaN</td>\n",
       "    </tr>\n",
       "    <tr>\n",
       "      <th>2</th>\n",
       "      <td>Aplicações em Segmento de Renda Fixa - RPPS</td>\n",
       "      <td>1.111111e+08</td>\n",
       "      <td>NaN</td>\n",
       "    </tr>\n",
       "    <tr>\n",
       "      <th>3</th>\n",
       "      <td>Aplicações em Segmento de Renda Variável - ...</td>\n",
       "      <td>2.222222e+08</td>\n",
       "      <td>NaN</td>\n",
       "    </tr>\n",
       "    <tr>\n",
       "      <th>4</th>\n",
       "      <td>Aplicações em Segmento Imobiliário  - RPPS</td>\n",
       "      <td>3.333333e+08</td>\n",
       "      <td>NaN</td>\n",
       "    </tr>\n",
       "    <tr>\n",
       "      <th>...</th>\n",
       "      <td>...</td>\n",
       "      <td>...</td>\n",
       "      <td>...</td>\n",
       "    </tr>\n",
       "    <tr>\n",
       "      <th>56</th>\n",
       "      <td>Total de Despesas Estimadas para o Exercício</td>\n",
       "      <td>5.555556e+11</td>\n",
       "      <td>NaN</td>\n",
       "    </tr>\n",
       "    <tr>\n",
       "      <th>57</th>\n",
       "      <td>RESULTADO FINANCEIRO ESTIMADO PARA O EXERCÍCIO</td>\n",
       "      <td>NaN</td>\n",
       "      <td>NaN</td>\n",
       "    </tr>\n",
       "    <tr>\n",
       "      <th>58</th>\n",
       "      <td>Déficit Financeiro</td>\n",
       "      <td>NaN</td>\n",
       "      <td>NaN</td>\n",
       "    </tr>\n",
       "    <tr>\n",
       "      <th>59</th>\n",
       "      <td>Equilíbrio Financeiro</td>\n",
       "      <td>NaN</td>\n",
       "      <td>NaN</td>\n",
       "    </tr>\n",
       "    <tr>\n",
       "      <th>60</th>\n",
       "      <td>Superávit Financeiro</td>\n",
       "      <td>NaN</td>\n",
       "      <td>NaN</td>\n",
       "    </tr>\n",
       "  </tbody>\n",
       "</table>\n",
       "<p>61 rows × 3 columns</p>\n",
       "</div>"
      ],
      "text/plain": [
       "                                            Descrição  Geração Atual  \\\n",
       "0                    Valor Atual dos Salários Futuros   3.721406e+11   \n",
       "1   ATIVOS GARANTIDORES DOS COMPROMISSOS DO PLANO ...            NaN   \n",
       "2         Aplicações em Segmento de Renda Fixa - RPPS   1.111111e+08   \n",
       "3      Aplicações em Segmento de Renda Variável - ...   2.222222e+08   \n",
       "4          Aplicações em Segmento Imobiliário  - RPPS   3.333333e+08   \n",
       "..                                                ...            ...   \n",
       "56       Total de Despesas Estimadas para o Exercício   5.555556e+11   \n",
       "57     RESULTADO FINANCEIRO ESTIMADO PARA O EXERCÍCIO            NaN   \n",
       "58                                 Déficit Financeiro            NaN   \n",
       "59                              Equilíbrio Financeiro            NaN   \n",
       "60                               Superávit Financeiro            NaN   \n",
       "\n",
       "    Geração Futura  \n",
       "0     1.111111e+10  \n",
       "1              NaN  \n",
       "2              NaN  \n",
       "3              NaN  \n",
       "4              NaN  \n",
       "..             ...  \n",
       "56             NaN  \n",
       "57             NaN  \n",
       "58             NaN  \n",
       "59             NaN  \n",
       "60             NaN  \n",
       "\n",
       "[61 rows x 3 columns]"
      ]
     },
     "execution_count": 319,
     "metadata": {},
     "output_type": "execute_result"
    }
   ],
   "source": [
    "df = pd.read_excel(\"plano de amortização.xlsx\", sheet_name= 11)\n",
    "df"
   ]
  },
  {
   "cell_type": "code",
   "execution_count": 320,
   "metadata": {},
   "outputs": [],
   "source": [
    "#CRIANDO VARIÁVEIS  DA GERAÇÃO ATUAL\n",
    "vasf = df.loc[0, \"Geração Atual\"]\n",
    "aplicacoes = df.loc[2:7,\"Geração Atual\"]\n",
    "benef_conc_enc = df.loc[10:15, \"Geração Atual\"]\n",
    "benef_conc_contrib_e_compens = df.loc[17:19, \"Geração Atual\"]\n",
    "benef_a_conc = df.loc[22:29, \"Geração Atual\"]\n",
    "benef_a_conc_enc = df.loc[31:35, \"Geração Atual\"]\n",
    "dest_resultado = df.loc[44:45,\"Geração Atual\"]\n",
    "fundos_gar = df.loc[49, \"Geração Atual\"]\n",
    "fundos = df.loc[52:53,\"Geração Atual\"]\n",
    "rec_e_desp = df.loc[55:56, \"Geração Atual\"]\n",
    "\n",
    "#CRIANDO VARIÁVEIS DA GERAÇÃO FUTUROS\n",
    "vasf2 = df.loc[0, \"Geração Futura\"]\n",
    "benef_a_conc2 = df.loc[22:29, \"Geração Futura\"]\n",
    "benef_a_conc_enc2 = df.loc[31:35, \"Geração Futura\"]\n",
    "prov_mat_p_cober = df.loc[37, \"Geração Futura\"]\n",
    "dest_resultado2 = df.loc[44:45,\"Geração Futura\"]\n",
    "fundos_gar2 = df.loc[53, \"Geração Futura\"]"
   ]
  },
  {
   "cell_type": "code",
   "execution_count": 321,
   "metadata": {},
   "outputs": [],
   "source": [
    "#lembrar de deixar o mouse em cima da primeira célula a preencher\n",
    "time.sleep(3)\n",
    "pyautogui.position()\n",
    "a , b = pyautogui.position() \n",
    "a\n",
    "\n",
    "f = a + 190\n",
    "f\n",
    "\n",
    "t = 0 #tempo de intervaldo entre blocos"
   ]
  },
  {
   "cell_type": "markdown",
   "metadata": {},
   "source": [
    "## Geração Atual"
   ]
  },
  {
   "cell_type": "code",
   "execution_count": 322,
   "metadata": {},
   "outputs": [],
   "source": [
    "#VASF\n",
    "time.sleep(t)\n",
    "pyautogui.click(x=a, y=b, clicks = 2)\n",
    "\n",
    "pyperclip.copy(str(vasf))\n",
    "pyautogui.hotkey('ctrl', 'a')\n",
    "pyautogui.hotkey('ctrl', 'v')\n",
    "pyautogui.press('enter')\n",
    "pyautogui.press('enter')"
   ]
  },
  {
   "cell_type": "code",
   "execution_count": 323,
   "metadata": {},
   "outputs": [
    {
     "data": {
      "text/plain": [
       "525"
      ]
     },
     "metadata": {},
     "output_type": "display_data"
    }
   ],
   "source": [
    "#ATIVOS GARANTIDORES\n",
    "time.sleep(t)\n",
    "i = 405\n",
    "pyautogui.click(x=a, y=i, clicks = 2) \n",
    "\n",
    "for n in aplicacoes.index:\n",
    "    x = aplicacoes[n]\n",
    "    pyautogui.click(x=a, y=i, clicks = 2)\n",
    "    pyperclip.copy(str(x))\n",
    "    pyautogui.hotkey('ctrl', 'a')\n",
    "    pyautogui.hotkey('ctrl', 'v')\n",
    "    pyautogui.press('enter')\n",
    "    i = i + 20\n",
    "display(i)"
   ]
  },
  {
   "cell_type": "code",
   "execution_count": 324,
   "metadata": {},
   "outputs": [
    {
     "data": {
      "text/plain": [
       "685"
      ]
     },
     "metadata": {},
     "output_type": "display_data"
    }
   ],
   "source": [
    "#VABF CONCEDIDOS\n",
    "time.sleep(t)\n",
    "i = 565\n",
    "pyautogui.click(x=a, y=i, clicks = 2)\n",
    "\n",
    "for n in benef_conc_enc.index:\n",
    "    x = benef_conc_enc[n]\n",
    "    pyautogui.click(x=a, y=i, clicks = 2) \n",
    "    pyperclip.copy(str(x))\n",
    "    pyautogui.hotkey('ctrl', 'a')\n",
    "    pyautogui.hotkey('ctrl', 'v')\n",
    "    pyautogui.press('enter')\n",
    "    i = i + 20\n",
    "display(i)    "
   ]
  },
  {
   "cell_type": "code",
   "execution_count": 325,
   "metadata": {},
   "outputs": [
    {
     "data": {
      "text/plain": [
       "765"
      ]
     },
     "metadata": {},
     "output_type": "display_data"
    }
   ],
   "source": [
    "#VACF - BENEFICIDOS CONDECIDOS\n",
    "time.sleep(t)\n",
    "i = 705\n",
    "pyautogui.click(x=a, y=i, clicks = 2)\n",
    "\n",
    "for n in benef_conc_contrib_e_compens.index:\n",
    "    x = benef_conc_contrib_e_compens[n]\n",
    "    pyautogui.click(x=a, y=i, clicks = 2) \n",
    "    pyperclip.copy(str(x))\n",
    "    pyautogui.hotkey('ctrl', 'a')\n",
    "    pyautogui.hotkey('ctrl', 'v')\n",
    "    pyautogui.press('enter')\n",
    "    i = i + 20\n",
    "display(i)  "
   ]
  },
  {
   "cell_type": "code",
   "execution_count": 326,
   "metadata": {},
   "outputs": [],
   "source": [
    "#DESCENDO A PÁGINA\n",
    "time.sleep(t)\n",
    "\n",
    "for n in range(31):\n",
    "    pyautogui.press('enter')"
   ]
  },
  {
   "cell_type": "code",
   "execution_count": 328,
   "metadata": {},
   "outputs": [
    {
     "data": {
      "text/plain": [
       "535"
      ]
     },
     "metadata": {},
     "output_type": "display_data"
    }
   ],
   "source": [
    "#VABF\n",
    "time.sleep(t)\n",
    "i = 375\n",
    "pyautogui.click(x=a, y=i, clicks = 2) \n",
    "\n",
    "for n in benef_a_conc.index:\n",
    "    x = benef_a_conc[n]\n",
    "    pyautogui.click(x=a, y=i, clicks = 2)\n",
    "    pyperclip.copy(str(x))\n",
    "    pyautogui.hotkey('ctrl', 'a')\n",
    "    pyautogui.hotkey('ctrl', 'v')\n",
    "    pyautogui.press('enter')\n",
    "    i = i + 20\n",
    "display(i)"
   ]
  },
  {
   "cell_type": "code",
   "execution_count": 329,
   "metadata": {},
   "outputs": [
    {
     "data": {
      "text/plain": [
       "655"
      ]
     },
     "metadata": {},
     "output_type": "display_data"
    }
   ],
   "source": [
    "#VACF E COMPENSÇÕES A RECEBER\n",
    "time.sleep(t)\n",
    "i = 555\n",
    "pyautogui.click(x=a, y=i, clicks = 2) \n",
    "\n",
    "for n in benef_a_conc_enc.index:\n",
    "    x = benef_a_conc_enc[n]\n",
    "    pyautogui.click(x=a, y=i, clicks = 2)\n",
    "    pyperclip.copy(str(x))\n",
    "    pyautogui.hotkey('ctrl', 'a')\n",
    "    pyautogui.hotkey('ctrl', 'v')\n",
    "    pyautogui.press('enter')\n",
    "    i = i + 20\n",
    "display(i)"
   ]
  },
  {
   "cell_type": "code",
   "execution_count": 330,
   "metadata": {},
   "outputs": [
    {
     "data": {
      "text/plain": [
       "855"
      ]
     },
     "metadata": {},
     "output_type": "display_data"
    }
   ],
   "source": [
    "#DESTINAÇÃO DO RESULTADO\n",
    "time.sleep(t)\n",
    "i = 815\n",
    "pyautogui.click(x=a, y=i, clicks = 2) \n",
    "\n",
    "for n in dest_resultado.index:\n",
    "    x = dest_resultado[n]\n",
    "    pyautogui.click(x=a, y=i, clicks = 2)\n",
    "    pyperclip.copy(str(x))\n",
    "    pyautogui.hotkey('ctrl', 'a')\n",
    "    pyautogui.hotkey('ctrl', 'v')\n",
    "    pyautogui.press('enter')\n",
    "    i = i + 20\n",
    "display(i)"
   ]
  },
  {
   "cell_type": "code",
   "execution_count": 331,
   "metadata": {},
   "outputs": [],
   "source": [
    "#FUNDO GARANTIDOR DE BENEFICÍOS ESTRUTURADOS\n",
    "time.sleep(t)\n",
    "i = 915\n",
    "pyautogui.click(x=a, y=i, clicks = 2)\n",
    "\n",
    "pyperclip.copy(str(fundos_gar))\n",
    "pyautogui.hotkey('ctrl', 'a')\n",
    "pyautogui.hotkey('ctrl', 'v')\n",
    "pyautogui.press('enter')"
   ]
  },
  {
   "cell_type": "code",
   "execution_count": 332,
   "metadata": {},
   "outputs": [],
   "source": [
    "#DESCENDO A JANELA\n",
    "time.sleep(t)\n",
    "for n in range(11):\n",
    "    pyautogui.press('enter')"
   ]
  },
  {
   "cell_type": "code",
   "execution_count": 333,
   "metadata": {},
   "outputs": [
    {
     "data": {
      "text/plain": [
       "815"
      ]
     },
     "metadata": {},
     "output_type": "display_data"
    }
   ],
   "source": [
    "#FUNDO GARANTIDOR DE BENEFICÍOS ESTRUTURADOS\n",
    "time.sleep(t)\n",
    "i = 775\n",
    "pyautogui.click(x=a, y=i, clicks = 2) \n",
    "\n",
    "for n in fundos.index:\n",
    "    x = fundos[n]\n",
    "    pyautogui.click(x=a, y=i, clicks = 2)\n",
    "    pyperclip.copy(str(x))\n",
    "    pyautogui.hotkey('ctrl', 'a')\n",
    "    pyautogui.hotkey('ctrl', 'v')\n",
    "    pyautogui.press('enter')\n",
    "    i = i + 20\n",
    "display(i)\n",
    "\n"
   ]
  },
  {
   "cell_type": "code",
   "execution_count": 334,
   "metadata": {},
   "outputs": [
    {
     "data": {
      "text/plain": [
       "875"
      ]
     },
     "metadata": {},
     "output_type": "display_data"
    }
   ],
   "source": [
    "#RECEITA E DESPESAS ESTIMADAS PARA O EXERCÍCIO\n",
    "time.sleep(t)\n",
    "i = 835\n",
    "pyautogui.click(x=a, y=i, clicks = 2) \n",
    "\n",
    "for n in rec_e_desp.index:\n",
    "    x = rec_e_desp[n]\n",
    "    pyautogui.click(x=a, y=i, clicks = 2)\n",
    "    pyperclip.copy(str(x))\n",
    "    pyautogui.hotkey('ctrl', 'a')\n",
    "    pyautogui.hotkey('ctrl', 'v')\n",
    "    pyautogui.press('enter')\n",
    "    i = i + 20\n",
    "display(i)\n"
   ]
  },
  {
   "cell_type": "code",
   "execution_count": 335,
   "metadata": {},
   "outputs": [],
   "source": [
    "#VOLTANDO AO TOPO\n",
    "time.sleep(t)\n",
    "\n",
    "for n in range(5):\n",
    "    pyautogui.press('enter')"
   ]
  },
  {
   "cell_type": "markdown",
   "metadata": {},
   "source": [
    "## Geração Futura"
   ]
  },
  {
   "cell_type": "code",
   "execution_count": 336,
   "metadata": {},
   "outputs": [],
   "source": [
    "#VASF\n",
    "time.sleep(t)\n",
    "pyautogui.click(x=f, y=b, clicks = 2)\n",
    "\n",
    "pyperclip.copy(str(vasf2))\n",
    "pyautogui.hotkey('ctrl', 'a')\n",
    "pyautogui.hotkey('ctrl', 'v')\n",
    "pyautogui.press('enter')"
   ]
  },
  {
   "cell_type": "code",
   "execution_count": 337,
   "metadata": {},
   "outputs": [],
   "source": [
    "#DESCENDO JANELA\n",
    "time.sleep(t)\n",
    "\n",
    "for n in range(50):\n",
    "    pyautogui.press('enter')"
   ]
  },
  {
   "cell_type": "code",
   "execution_count": 338,
   "metadata": {},
   "outputs": [
    {
     "data": {
      "text/plain": [
       "535"
      ]
     },
     "metadata": {},
     "output_type": "display_data"
    }
   ],
   "source": [
    "#VABF - ENCARGOS DE BENEFÍCIOS A CONCEDER\n",
    "time.sleep(t)\n",
    "i = 375\n",
    "pyautogui.click(x=f, y=i, clicks = 2) \n",
    "\n",
    "for n in benef_a_conc2.index:\n",
    "    x = benef_a_conc2[n]\n",
    "    pyautogui.click(x=f, y=i, clicks = 2)\n",
    "    pyperclip.copy(str(x))\n",
    "    pyautogui.hotkey('ctrl', 'a')\n",
    "    pyautogui.hotkey('ctrl', 'v')\n",
    "    pyautogui.press('enter')\n",
    "    i = i + 20\n",
    "display(i)\n"
   ]
  },
  {
   "cell_type": "code",
   "execution_count": 339,
   "metadata": {},
   "outputs": [
    {
     "data": {
      "text/plain": [
       "655"
      ]
     },
     "metadata": {},
     "output_type": "display_data"
    }
   ],
   "source": [
    "#VACF - BENEFICIOS A CONCEDER\n",
    "time.sleep(t)\n",
    "i = 555\n",
    "\n",
    "pyautogui.click(x=f, y=i, clicks = 2) \n",
    "\n",
    "for n in benef_a_conc_enc2.index:\n",
    "    x = benef_a_conc_enc2[n]\n",
    "    pyautogui.click(x=f, y=i, clicks = 2)\n",
    "    pyperclip.copy(str(x))\n",
    "    pyautogui.hotkey('ctrl', 'a')\n",
    "    pyautogui.hotkey('ctrl', 'v')\n",
    "    pyautogui.press('enter')\n",
    "    i = i + 20\n",
    "display(i)"
   ]
  },
  {
   "cell_type": "code",
   "execution_count": 340,
   "metadata": {},
   "outputs": [],
   "source": [
    "#VALOR ATUAL DO PLANO DE AMORTIZAÇÃO DO DÉCIFIT ATUARIAL PREVISTO EM LEI\n",
    "time.sleep(t)\n",
    "I = 675\n",
    "pyautogui.click(x=f, y=I, clicks = 2)\n",
    "\n",
    "pyperclip.copy(str(prov_mat_p_cober))\n",
    "pyautogui.hotkey('ctrl', 'a')\n",
    "pyautogui.hotkey('ctrl', 'v')\n",
    "pyautogui.press('enter')"
   ]
  },
  {
   "cell_type": "code",
   "execution_count": 341,
   "metadata": {},
   "outputs": [],
   "source": [
    "#VOLTANDO AO TOPO\n",
    "time.sleep(t)\n",
    "\n",
    "for n in range(24):\n",
    "    pyautogui.press('enter')"
   ]
  }
 ],
 "metadata": {
  "kernelspec": {
   "display_name": "Python 3.10.6 64-bit",
   "language": "python",
   "name": "python3"
  },
  "language_info": {
   "codemirror_mode": {
    "name": "ipython",
    "version": 3
   },
   "file_extension": ".py",
   "mimetype": "text/x-python",
   "name": "python",
   "nbconvert_exporter": "python",
   "pygments_lexer": "ipython3",
   "version": "3.10.6"
  },
  "orig_nbformat": 4,
  "vscode": {
   "interpreter": {
    "hash": "362142306c1946e77b98b1440356f6294178db9dc23b3227efca562eff197b29"
   }
  }
 },
 "nbformat": 4,
 "nbformat_minor": 2
}
