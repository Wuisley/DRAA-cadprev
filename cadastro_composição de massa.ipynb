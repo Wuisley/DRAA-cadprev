{
 "cells": [
  {
   "cell_type": "markdown",
   "metadata": {},
   "source": [
    "Composição da Massa"
   ]
  },
  {
   "cell_type": "code",
   "execution_count": 14,
   "metadata": {},
   "outputs": [],
   "source": [
    "import pandas as pd\n",
    "import pyautogui\n",
    "import time\n",
    "import pyperclip"
   ]
  },
  {
   "cell_type": "code",
   "execution_count": 15,
   "metadata": {},
   "outputs": [],
   "source": [
    "time.sleep(3)\n",
    "df = pd.read_excel(\"plano de amortização.xlsx\", sheet_name= 10)\n",
    "df\n",
    "\n",
    "t = 3\n",
    "time.sleep(t)"
   ]
  },
  {
   "cell_type": "code",
   "execution_count": 16,
   "metadata": {},
   "outputs": [],
   "source": [
    "#Segregaçção de massa cívil\n",
    "time.sleep(t)\n",
    "\n",
    "pyautogui.press('tab')\n",
    "pyautogui.press('down')\n",
    "pyautogui.press('up')\n",
    "\n",
    "for i in range(df.iloc[0,0]):\n",
    "    pyautogui.press('down')\n",
    "\n",
    "pyautogui.press('tab')\n"
   ]
  },
  {
   "cell_type": "code",
   "execution_count": 17,
   "metadata": {},
   "outputs": [],
   "source": [
    "#Segregaçção de massa militar\n",
    "time.sleep(t)\n",
    "\n",
    "pyautogui.press('down')\n",
    "pyautogui.press('up')\n",
    "\n",
    "for i in range(df.iloc[0,2]):\n",
    "    pyautogui.press('down')\n",
    "\n",
    "pyautogui.press('tab')"
   ]
  },
  {
   "cell_type": "code",
   "execution_count": 21,
   "metadata": {},
   "outputs": [],
   "source": [
    "#Mantidos pelo tesouro cívil\n",
    "time.sleep(t)\n",
    "\n",
    "pyautogui.press('down')\n",
    "pyautogui.press('up')\n",
    "\n",
    "for i in range(int(df.iloc[0,4])-1):\n",
    "    pyautogui.press('down')\n",
    "\n",
    "pyautogui.press('tab')"
   ]
  },
  {
   "cell_type": "code",
   "execution_count": 19,
   "metadata": {},
   "outputs": [
    {
     "data": {
      "text/plain": [
       "1.0"
      ]
     },
     "metadata": {},
     "output_type": "display_data"
    }
   ],
   "source": [
    "display(df.iloc[0,4])"
   ]
  },
  {
   "cell_type": "code",
   "execution_count": 23,
   "metadata": {},
   "outputs": [],
   "source": [
    "#Mantidos pelo tesouro militar\n",
    "time.sleep(t)\n",
    "\n",
    "pyautogui.press('down')\n",
    "pyautogui.press('up')\n",
    "\n",
    "for i in range(int(df.iloc[0,6])-1):\n",
    "    pyautogui.press('down')\n",
    "\n",
    "pyautogui.press('tab')"
   ]
  },
  {
   "cell_type": "code",
   "execution_count": 24,
   "metadata": {},
   "outputs": [],
   "source": [
    "#Previdência Complementar\n",
    "time.sleep(t)\n",
    "\n",
    "pyautogui.press('down')\n",
    "pyautogui.press('up')\n",
    "\n",
    "for i in range(int(df.iloc[0,8]-1)):\n",
    "    pyautogui.press('down')\n",
    "\n",
    "pyautogui.press('tab')"
   ]
  }
 ],
 "metadata": {
  "kernelspec": {
   "display_name": "Python 3.11.0 64-bit",
   "language": "python",
   "name": "python3"
  },
  "language_info": {
   "codemirror_mode": {
    "name": "ipython",
    "version": 3
   },
   "file_extension": ".py",
   "mimetype": "text/x-python",
   "name": "python",
   "nbconvert_exporter": "python",
   "pygments_lexer": "ipython3",
   "version": "3.11.0"
  },
  "orig_nbformat": 4,
  "vscode": {
   "interpreter": {
    "hash": "963839805469506d869b787f0b31e17a3814d794973f453d6749ac9bc0846d0c"
   }
  }
 },
 "nbformat": 4,
 "nbformat_minor": 2
}
