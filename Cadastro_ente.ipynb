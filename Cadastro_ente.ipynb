{
 "cells": [
  {
   "cell_type": "code",
   "execution_count": 63,
   "metadata": {},
   "outputs": [],
   "source": [
    "import pandas as pd\n",
    "import pyautogui\n",
    "import time\n",
    "import pyperclip"
   ]
  },
  {
   "cell_type": "code",
   "execution_count": 64,
   "metadata": {},
   "outputs": [
    {
     "data": {
      "text/html": [
       "<div>\n",
       "<style scoped>\n",
       "    .dataframe tbody tr th:only-of-type {\n",
       "        vertical-align: middle;\n",
       "    }\n",
       "\n",
       "    .dataframe tbody tr th {\n",
       "        vertical-align: top;\n",
       "    }\n",
       "\n",
       "    .dataframe thead th {\n",
       "        text-align: right;\n",
       "    }\n",
       "</style>\n",
       "<table border=\"1\" class=\"dataframe\">\n",
       "  <thead>\n",
       "    <tr style=\"text-align: right;\">\n",
       "      <th></th>\n",
       "      <th>Endereço</th>\n",
       "      <th>Complemento</th>\n",
       "      <th>Bairro</th>\n",
       "      <th>CEP</th>\n",
       "      <th>Telefone</th>\n",
       "      <th>E-mail ente</th>\n",
       "      <th>CPF</th>\n",
       "      <th>Nome</th>\n",
       "      <th>Cod_cargo</th>\n",
       "      <th>cargo</th>\n",
       "      <th>Complemento cargo</th>\n",
       "      <th>Dt inicio gestão</th>\n",
       "      <th>E-mail representante</th>\n",
       "    </tr>\n",
       "  </thead>\n",
       "  <tbody>\n",
       "    <tr>\n",
       "      <th>0</th>\n",
       "      <td>Rua Daura Saraiva</td>\n",
       "      <td>n° 591</td>\n",
       "      <td>jardim</td>\n",
       "      <td>58113410</td>\n",
       "      <td>8398630647</td>\n",
       "      <td>weuqiuweqio@gmail.com</td>\n",
       "      <td>094.055.914-52</td>\n",
       "      <td>jewiojropwe</td>\n",
       "      <td>3</td>\n",
       "      <td>Secretário</td>\n",
       "      <td>vendedor de inhame</td>\n",
       "      <td>01/10/1999</td>\n",
       "      <td>tjrtjreo@gmail.com</td>\n",
       "    </tr>\n",
       "    <tr>\n",
       "      <th>1</th>\n",
       "      <td>Rua Daura Saraiva</td>\n",
       "      <td>n° 591</td>\n",
       "      <td>jardim</td>\n",
       "      <td>58113410</td>\n",
       "      <td>8398630647</td>\n",
       "      <td>weuqiuweqio@gmail.com</td>\n",
       "      <td>094.055.914-52</td>\n",
       "      <td>jewiojropwe</td>\n",
       "      <td>2</td>\n",
       "      <td>Governador</td>\n",
       "      <td>NaN</td>\n",
       "      <td>01/10/1999</td>\n",
       "      <td>tjrtjreo@gmail.com</td>\n",
       "    </tr>\n",
       "    <tr>\n",
       "      <th>2</th>\n",
       "      <td>Rua Daura Saraiva</td>\n",
       "      <td>n° 591</td>\n",
       "      <td>jardim</td>\n",
       "      <td>58113410</td>\n",
       "      <td>8398630647</td>\n",
       "      <td>weuqiuweqio@gmail.com</td>\n",
       "      <td>094.055.914-52</td>\n",
       "      <td>jewiojropwe</td>\n",
       "      <td>1</td>\n",
       "      <td>Prefeito</td>\n",
       "      <td>NaN</td>\n",
       "      <td>01/10/1999</td>\n",
       "      <td>tjrtjreo@gmail.com</td>\n",
       "    </tr>\n",
       "    <tr>\n",
       "      <th>3</th>\n",
       "      <td>Rua Daura Saraiva</td>\n",
       "      <td>n° 591</td>\n",
       "      <td>jardim</td>\n",
       "      <td>58113410</td>\n",
       "      <td>8398630647</td>\n",
       "      <td>weuqiuweqio@gmail.com</td>\n",
       "      <td>094.055.914-52</td>\n",
       "      <td>jewiojropwe</td>\n",
       "      <td>4</td>\n",
       "      <td>Tesoureiro</td>\n",
       "      <td>da cultura</td>\n",
       "      <td>01/10/1999</td>\n",
       "      <td>tjrtjreo@gmail.com</td>\n",
       "    </tr>\n",
       "    <tr>\n",
       "      <th>4</th>\n",
       "      <td>Rua Daura Saraiva</td>\n",
       "      <td>n° 591</td>\n",
       "      <td>jardim</td>\n",
       "      <td>58113410</td>\n",
       "      <td>8398630647</td>\n",
       "      <td>weuqiuweqio@gmail.com</td>\n",
       "      <td>094.055.914-52</td>\n",
       "      <td>jewiojropwe</td>\n",
       "      <td>5</td>\n",
       "      <td>Vice-prefeito</td>\n",
       "      <td>NaN</td>\n",
       "      <td>01/10/1999</td>\n",
       "      <td>tjrtjreo@gmail.com</td>\n",
       "    </tr>\n",
       "  </tbody>\n",
       "</table>\n",
       "</div>"
      ],
      "text/plain": [
       "            Endereço Complemento  Bairro       CEP    Telefone  \\\n",
       "0  Rua Daura Saraiva      n° 591  jardim  58113410  8398630647   \n",
       "1  Rua Daura Saraiva      n° 591  jardim  58113410  8398630647   \n",
       "2  Rua Daura Saraiva      n° 591  jardim  58113410  8398630647   \n",
       "3  Rua Daura Saraiva      n° 591  jardim  58113410  8398630647   \n",
       "4  Rua Daura Saraiva      n° 591  jardim  58113410  8398630647   \n",
       "\n",
       "             E-mail ente             CPF         Nome  Cod_cargo  \\\n",
       "0  weuqiuweqio@gmail.com  094.055.914-52  jewiojropwe          3   \n",
       "1  weuqiuweqio@gmail.com  094.055.914-52  jewiojropwe          2   \n",
       "2  weuqiuweqio@gmail.com  094.055.914-52  jewiojropwe          1   \n",
       "3  weuqiuweqio@gmail.com  094.055.914-52  jewiojropwe          4   \n",
       "4  weuqiuweqio@gmail.com  094.055.914-52  jewiojropwe          5   \n",
       "\n",
       "           cargo   Complemento cargo Dt inicio gestão E-mail representante  \n",
       "0     Secretário  vendedor de inhame       01/10/1999   tjrtjreo@gmail.com  \n",
       "1     Governador                 NaN       01/10/1999   tjrtjreo@gmail.com  \n",
       "2       Prefeito                 NaN       01/10/1999   tjrtjreo@gmail.com  \n",
       "3     Tesoureiro          da cultura       01/10/1999   tjrtjreo@gmail.com  \n",
       "4  Vice-prefeito                 NaN       01/10/1999   tjrtjreo@gmail.com  "
      ]
     },
     "execution_count": 64,
     "metadata": {},
     "output_type": "execute_result"
    }
   ],
   "source": [
    "time.sleep(3)\n",
    "t = 1\n",
    "df = pd.read_excel(\"plano de amortização.xlsx\", sheet_name= 7)\n",
    "df"
   ]
  },
  {
   "cell_type": "markdown",
   "metadata": {},
   "source": [
    "Dados do ente\n"
   ]
  },
  {
   "cell_type": "code",
   "execution_count": 65,
   "metadata": {},
   "outputs": [],
   "source": [
    "# Endereço\n",
    "time.sleep(t)\n",
    "pyperclip.copy(df.iloc[0,0])\n",
    "pyautogui.hotkey('ctrl', 'a')\n",
    "pyautogui.hotkey('ctrl', 'v')\n",
    "\n",
    "pyautogui.press('tab')\n"
   ]
  },
  {
   "cell_type": "code",
   "execution_count": null,
   "metadata": {},
   "outputs": [],
   "source": [
    "#complemento\n",
    "time.sleep(t)\n",
    "pyperclip.copy(df.iloc[0,1])\n",
    "pyautogui.hotkey('ctrl', 'a')\n",
    "pyautogui.hotkey('ctrl', 'v')\n",
    "\n",
    "pyautogui.press('tab')"
   ]
  },
  {
   "cell_type": "code",
   "execution_count": null,
   "metadata": {},
   "outputs": [],
   "source": [
    "#Bairro\n",
    "time.sleep(t)\n",
    "pyperclip.copy(df.iloc[0,2])\n",
    "pyautogui.hotkey('ctrl', 'a')\n",
    "pyautogui.hotkey('ctrl', 'v')\n",
    "\n",
    "pyautogui.press('tab')"
   ]
  },
  {
   "cell_type": "code",
   "execution_count": null,
   "metadata": {},
   "outputs": [],
   "source": [
    "#CEP\n",
    "time.sleep(t)\n",
    "pyperclip.copy(int(df.iloc[0,3]))\n",
    "pyautogui.hotkey('ctrl', 'a')\n",
    "pyautogui.hotkey('ctrl', 'v')\n",
    "\n",
    "pyautogui.press('tab')"
   ]
  },
  {
   "cell_type": "code",
   "execution_count": null,
   "metadata": {},
   "outputs": [],
   "source": [
    "#Telefone\n",
    "time.sleep(t)\n",
    "u = \"0\" + str(df.iloc[0,4])\n",
    "pyperclip.copy(u)\n",
    "pyautogui.hotkey('ctrl', 'a')\n",
    "pyautogui.hotkey('ctrl', 'v')\n",
    "\n",
    "pyautogui.press('tab')"
   ]
  },
  {
   "cell_type": "code",
   "execution_count": null,
   "metadata": {},
   "outputs": [],
   "source": [
    "#Email\n",
    "time.sleep(t)\n",
    "pyperclip.copy(df.iloc[0,5])\n",
    "pyautogui.hotkey('ctrl', 'a')\n",
    "pyautogui.hotkey('ctrl', 'v')\n",
    "\n",
    "pyautogui.press('tab')\n"
   ]
  },
  {
   "cell_type": "markdown",
   "metadata": {},
   "source": [
    "Dados do Representante Legal do Ente"
   ]
  },
  {
   "cell_type": "code",
   "execution_count": null,
   "metadata": {},
   "outputs": [],
   "source": [
    "#CPF\n",
    "time.sleep(t)\n",
    "pyperclip.copy(df.iloc[0,6])\n",
    "pyautogui.hotkey('ctrl', 'a')\n",
    "pyautogui.hotkey('ctrl', 'v')\n",
    "\n",
    "pyautogui.press('tab')\n",
    "pyautogui.press('space')\n",
    "pyautogui.press('tab')"
   ]
  },
  {
   "cell_type": "code",
   "execution_count": null,
   "metadata": {},
   "outputs": [],
   "source": [
    "#Nome\n",
    "time.sleep(t)\n",
    "pyperclip.copy(df.iloc[0,7])\n",
    "pyautogui.hotkey('ctrl', 'a')\n",
    "pyautogui.hotkey('ctrl', 'v')\n",
    "\n",
    "pyautogui.press('tab')"
   ]
  },
  {
   "cell_type": "code",
   "execution_count": null,
   "metadata": {},
   "outputs": [],
   "source": [
    "#Cargo\n",
    "time.sleep(t)\n",
    "for n in range(df.iloc[0,8]):\n",
    "    pyautogui.press('down')\n",
    "pyautogui.press('tab')"
   ]
  },
  {
   "cell_type": "code",
   "execution_count": null,
   "metadata": {},
   "outputs": [],
   "source": [
    "#Completendo do cargo\n",
    "pyautogui.sleep(t)\n",
    "if df.iloc[0,8] == 3 or 4 and df.iloc[0,10] != \"nan\":\n",
    "    pyperclip.copy(str(df.iloc[0,10]))\n",
    "    pyautogui.hotkey('ctrl', 'a')\n",
    "    pyautogui.hotkey('ctrl', 'v')\n",
    "    pyautogui.press('tab')\n",
    "else:\n",
    "    pyautogui.press('tab')"
   ]
  },
  {
   "cell_type": "code",
   "execution_count": null,
   "metadata": {},
   "outputs": [],
   "source": [
    "#Data inicio gestão\n",
    "time.sleep(t)\n",
    "pyperclip.copy(str(df.iloc[0,11]))\n",
    "pyautogui.hotkey('ctrl', 'a')\n",
    "pyautogui.hotkey('ctrl', 'v')\n",
    "\n",
    "pyautogui.press('tab')"
   ]
  },
  {
   "cell_type": "code",
   "execution_count": null,
   "metadata": {},
   "outputs": [],
   "source": [
    "#E-mail ente\n",
    "time.sleep(t)\n",
    "pyperclip.copy(str(df.iloc[0,12]))\n",
    "pyautogui.hotkey('ctrl', 'a')\n",
    "pyautogui.hotkey('ctrl', 'v')\n",
    "pyautogui.press('tab')\n",
    "pyautogui.press('enter')"
   ]
  }
 ],
 "metadata": {
  "kernelspec": {
   "display_name": "Python 3.10.8 64-bit (microsoft store)",
   "language": "python",
   "name": "python3"
  },
  "language_info": {
   "codemirror_mode": {
    "name": "ipython",
    "version": 3
   },
   "file_extension": ".py",
   "mimetype": "text/x-python",
   "name": "python",
   "nbconvert_exporter": "python",
   "pygments_lexer": "ipython3",
   "version": "3.10.8"
  },
  "orig_nbformat": 4,
  "vscode": {
   "interpreter": {
    "hash": "98bfc96c88827eb559aec2321a084f4367a52548f8a2346d493bf636bf0b6745"
   }
  }
 },
 "nbformat": 4,
 "nbformat_minor": 2
}
