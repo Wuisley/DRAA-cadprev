{
 "cells": [
  {
   "cell_type": "code",
   "execution_count": 102,
   "metadata": {},
   "outputs": [],
   "source": [
    "import pandas as pd\n",
    "import pyautogui\n",
    "import time\n",
    "import pyperclip"
   ]
  },
  {
   "cell_type": "code",
   "execution_count": 141,
   "metadata": {},
   "outputs": [
    {
     "data": {
      "text/html": [
       "<div>\n",
       "<style scoped>\n",
       "    .dataframe tbody tr th:only-of-type {\n",
       "        vertical-align: middle;\n",
       "    }\n",
       "\n",
       "    .dataframe tbody tr th {\n",
       "        vertical-align: top;\n",
       "    }\n",
       "\n",
       "    .dataframe thead th {\n",
       "        text-align: right;\n",
       "    }\n",
       "</style>\n",
       "<table border=\"1\" class=\"dataframe\">\n",
       "  <thead>\n",
       "    <tr style=\"text-align: right;\">\n",
       "      <th></th>\n",
       "      <th>CNPJ</th>\n",
       "      <th>Nome_UG</th>\n",
       "      <th>Endereço</th>\n",
       "      <th>Complemento</th>\n",
       "      <th>Bairro</th>\n",
       "      <th>CEP</th>\n",
       "      <th>Telefone_UG</th>\n",
       "      <th>E-mail_UG</th>\n",
       "      <th>cod_natureza</th>\n",
       "      <th>natureza juridica</th>\n",
       "      <th>...</th>\n",
       "      <th>n_repres_seg</th>\n",
       "      <th>outros</th>\n",
       "      <th>CPF_deliberativo</th>\n",
       "      <th>Nome.1</th>\n",
       "      <th>cod_cargo.1</th>\n",
       "      <th>cargo.1</th>\n",
       "      <th>Complemento.1</th>\n",
       "      <th>Telefone_delib</th>\n",
       "      <th>E-mail_delib</th>\n",
       "      <th>Dt_inicio_mandato</th>\n",
       "    </tr>\n",
       "  </thead>\n",
       "  <tbody>\n",
       "    <tr>\n",
       "      <th>0</th>\n",
       "      <td>17.733.605/0001-94</td>\n",
       "      <td>Instituto De Previdencia Social Dos Servidores...</td>\n",
       "      <td>Rua Daura Saraiva</td>\n",
       "      <td>NaN</td>\n",
       "      <td>jardim</td>\n",
       "      <td>58113-410</td>\n",
       "      <td>8.399863e+10</td>\n",
       "      <td>ruweioruweo@gmail.com</td>\n",
       "      <td>4.0</td>\n",
       "      <td>Outros</td>\n",
       "      <td>...</td>\n",
       "      <td>5.0</td>\n",
       "      <td>art 5°</td>\n",
       "      <td>094.055.914-52</td>\n",
       "      <td>Tonho</td>\n",
       "      <td>1</td>\n",
       "      <td>Adm</td>\n",
       "      <td>Vendedor de inhame</td>\n",
       "      <td>8.399863e+10</td>\n",
       "      <td>ruweiurwoe@gmail.com</td>\n",
       "      <td>31/12/2021</td>\n",
       "    </tr>\n",
       "    <tr>\n",
       "      <th>1</th>\n",
       "      <td>17.733.605/0001-94</td>\n",
       "      <td>Instituto De Previdencia Social Dos Servidores...</td>\n",
       "      <td>Rua Daura Saraiva</td>\n",
       "      <td>ao lado da igreja</td>\n",
       "      <td>jardim</td>\n",
       "      <td>NaN</td>\n",
       "      <td>8.399863e+10</td>\n",
       "      <td>ruweioruweo@gmail.com</td>\n",
       "      <td>2.0</td>\n",
       "      <td>Fundação de direito público</td>\n",
       "      <td>...</td>\n",
       "      <td>NaN</td>\n",
       "      <td>NaN</td>\n",
       "      <td>NaN</td>\n",
       "      <td>NaN</td>\n",
       "      <td>2</td>\n",
       "      <td>Diretor</td>\n",
       "      <td>NaN</td>\n",
       "      <td>NaN</td>\n",
       "      <td>NaN</td>\n",
       "      <td>NaN</td>\n",
       "    </tr>\n",
       "    <tr>\n",
       "      <th>2</th>\n",
       "      <td>17.733.605/0001-94</td>\n",
       "      <td>Instituto De Previdencia Social Dos Servidores...</td>\n",
       "      <td>Rua Daura Saraiva</td>\n",
       "      <td>ao lado da igreja</td>\n",
       "      <td>jardim</td>\n",
       "      <td>NaN</td>\n",
       "      <td>8.399863e+10</td>\n",
       "      <td>ruweioruweo@gmail.com</td>\n",
       "      <td>3.0</td>\n",
       "      <td>Órgão da adm direta</td>\n",
       "      <td>...</td>\n",
       "      <td>NaN</td>\n",
       "      <td>NaN</td>\n",
       "      <td>NaN</td>\n",
       "      <td>NaN</td>\n",
       "      <td>3</td>\n",
       "      <td>Gerente</td>\n",
       "      <td>NaN</td>\n",
       "      <td>NaN</td>\n",
       "      <td>NaN</td>\n",
       "      <td>NaN</td>\n",
       "    </tr>\n",
       "    <tr>\n",
       "      <th>3</th>\n",
       "      <td>17.733.605/0001-94</td>\n",
       "      <td>Instituto De Previdencia Social Dos Servidores...</td>\n",
       "      <td>Rua Daura Saraiva</td>\n",
       "      <td>ao lado da igreja</td>\n",
       "      <td>jardim</td>\n",
       "      <td>NaN</td>\n",
       "      <td>8.399863e+10</td>\n",
       "      <td>ruweioruweo@gmail.com</td>\n",
       "      <td>1.0</td>\n",
       "      <td>Artarquia</td>\n",
       "      <td>...</td>\n",
       "      <td>NaN</td>\n",
       "      <td>NaN</td>\n",
       "      <td>NaN</td>\n",
       "      <td>NaN</td>\n",
       "      <td>4</td>\n",
       "      <td>Gestor</td>\n",
       "      <td>NaN</td>\n",
       "      <td>NaN</td>\n",
       "      <td>NaN</td>\n",
       "      <td>NaN</td>\n",
       "    </tr>\n",
       "    <tr>\n",
       "      <th>4</th>\n",
       "      <td>NaN</td>\n",
       "      <td>NaN</td>\n",
       "      <td>NaN</td>\n",
       "      <td>NaN</td>\n",
       "      <td>NaN</td>\n",
       "      <td>NaN</td>\n",
       "      <td>NaN</td>\n",
       "      <td>NaN</td>\n",
       "      <td>NaN</td>\n",
       "      <td>NaN</td>\n",
       "      <td>...</td>\n",
       "      <td>NaN</td>\n",
       "      <td>NaN</td>\n",
       "      <td>NaN</td>\n",
       "      <td>NaN</td>\n",
       "      <td>5</td>\n",
       "      <td>Membro</td>\n",
       "      <td>NaN</td>\n",
       "      <td>NaN</td>\n",
       "      <td>NaN</td>\n",
       "      <td>NaN</td>\n",
       "    </tr>\n",
       "    <tr>\n",
       "      <th>5</th>\n",
       "      <td>NaN</td>\n",
       "      <td>NaN</td>\n",
       "      <td>NaN</td>\n",
       "      <td>NaN</td>\n",
       "      <td>NaN</td>\n",
       "      <td>NaN</td>\n",
       "      <td>NaN</td>\n",
       "      <td>NaN</td>\n",
       "      <td>NaN</td>\n",
       "      <td>NaN</td>\n",
       "      <td>...</td>\n",
       "      <td>NaN</td>\n",
       "      <td>NaN</td>\n",
       "      <td>NaN</td>\n",
       "      <td>NaN</td>\n",
       "      <td>6</td>\n",
       "      <td>Presidente</td>\n",
       "      <td>NaN</td>\n",
       "      <td>NaN</td>\n",
       "      <td>NaN</td>\n",
       "      <td>NaN</td>\n",
       "    </tr>\n",
       "    <tr>\n",
       "      <th>6</th>\n",
       "      <td>NaN</td>\n",
       "      <td>NaN</td>\n",
       "      <td>NaN</td>\n",
       "      <td>NaN</td>\n",
       "      <td>NaN</td>\n",
       "      <td>NaN</td>\n",
       "      <td>NaN</td>\n",
       "      <td>NaN</td>\n",
       "      <td>NaN</td>\n",
       "      <td>NaN</td>\n",
       "      <td>...</td>\n",
       "      <td>NaN</td>\n",
       "      <td>NaN</td>\n",
       "      <td>NaN</td>\n",
       "      <td>NaN</td>\n",
       "      <td>7</td>\n",
       "      <td>Secretário</td>\n",
       "      <td>NaN</td>\n",
       "      <td>NaN</td>\n",
       "      <td>NaN</td>\n",
       "      <td>NaN</td>\n",
       "    </tr>\n",
       "    <tr>\n",
       "      <th>7</th>\n",
       "      <td>NaN</td>\n",
       "      <td>NaN</td>\n",
       "      <td>NaN</td>\n",
       "      <td>NaN</td>\n",
       "      <td>NaN</td>\n",
       "      <td>NaN</td>\n",
       "      <td>NaN</td>\n",
       "      <td>NaN</td>\n",
       "      <td>NaN</td>\n",
       "      <td>NaN</td>\n",
       "      <td>...</td>\n",
       "      <td>NaN</td>\n",
       "      <td>NaN</td>\n",
       "      <td>NaN</td>\n",
       "      <td>NaN</td>\n",
       "      <td>8</td>\n",
       "      <td>Superintendente</td>\n",
       "      <td>NaN</td>\n",
       "      <td>NaN</td>\n",
       "      <td>NaN</td>\n",
       "      <td>NaN</td>\n",
       "    </tr>\n",
       "    <tr>\n",
       "      <th>8</th>\n",
       "      <td>NaN</td>\n",
       "      <td>NaN</td>\n",
       "      <td>NaN</td>\n",
       "      <td>NaN</td>\n",
       "      <td>NaN</td>\n",
       "      <td>NaN</td>\n",
       "      <td>NaN</td>\n",
       "      <td>NaN</td>\n",
       "      <td>NaN</td>\n",
       "      <td>NaN</td>\n",
       "      <td>...</td>\n",
       "      <td>NaN</td>\n",
       "      <td>NaN</td>\n",
       "      <td>NaN</td>\n",
       "      <td>NaN</td>\n",
       "      <td>9</td>\n",
       "      <td>Tesoureiro</td>\n",
       "      <td>NaN</td>\n",
       "      <td>NaN</td>\n",
       "      <td>NaN</td>\n",
       "      <td>NaN</td>\n",
       "    </tr>\n",
       "    <tr>\n",
       "      <th>9</th>\n",
       "      <td>NaN</td>\n",
       "      <td>NaN</td>\n",
       "      <td>NaN</td>\n",
       "      <td>NaN</td>\n",
       "      <td>NaN</td>\n",
       "      <td>NaN</td>\n",
       "      <td>NaN</td>\n",
       "      <td>NaN</td>\n",
       "      <td>NaN</td>\n",
       "      <td>NaN</td>\n",
       "      <td>...</td>\n",
       "      <td>NaN</td>\n",
       "      <td>NaN</td>\n",
       "      <td>NaN</td>\n",
       "      <td>NaN</td>\n",
       "      <td>10</td>\n",
       "      <td>Vice-presidente</td>\n",
       "      <td>NaN</td>\n",
       "      <td>NaN</td>\n",
       "      <td>NaN</td>\n",
       "      <td>NaN</td>\n",
       "    </tr>\n",
       "  </tbody>\n",
       "</table>\n",
       "<p>10 rows × 36 columns</p>\n",
       "</div>"
      ],
      "text/plain": [
       "                 CNPJ                                            Nome_UG  \\\n",
       "0  17.733.605/0001-94  Instituto De Previdencia Social Dos Servidores...   \n",
       "1  17.733.605/0001-94  Instituto De Previdencia Social Dos Servidores...   \n",
       "2  17.733.605/0001-94  Instituto De Previdencia Social Dos Servidores...   \n",
       "3  17.733.605/0001-94  Instituto De Previdencia Social Dos Servidores...   \n",
       "4                 NaN                                                NaN   \n",
       "5                 NaN                                                NaN   \n",
       "6                 NaN                                                NaN   \n",
       "7                 NaN                                                NaN   \n",
       "8                 NaN                                                NaN   \n",
       "9                 NaN                                                NaN   \n",
       "\n",
       "            Endereço        Complemento  Bairro        CEP   Telefone_UG  \\\n",
       "0  Rua Daura Saraiva                NaN  jardim  58113-410  8.399863e+10   \n",
       "1  Rua Daura Saraiva  ao lado da igreja  jardim        NaN  8.399863e+10   \n",
       "2  Rua Daura Saraiva  ao lado da igreja  jardim        NaN  8.399863e+10   \n",
       "3  Rua Daura Saraiva  ao lado da igreja  jardim        NaN  8.399863e+10   \n",
       "4                NaN                NaN     NaN        NaN           NaN   \n",
       "5                NaN                NaN     NaN        NaN           NaN   \n",
       "6                NaN                NaN     NaN        NaN           NaN   \n",
       "7                NaN                NaN     NaN        NaN           NaN   \n",
       "8                NaN                NaN     NaN        NaN           NaN   \n",
       "9                NaN                NaN     NaN        NaN           NaN   \n",
       "\n",
       "               E-mail_UG  cod_natureza             natureza juridica  ...  \\\n",
       "0  ruweioruweo@gmail.com            4.0                       Outros  ...   \n",
       "1  ruweioruweo@gmail.com            2.0  Fundação de direito público  ...   \n",
       "2  ruweioruweo@gmail.com            3.0          Órgão da adm direta  ...   \n",
       "3  ruweioruweo@gmail.com            1.0                    Artarquia  ...   \n",
       "4                    NaN            NaN                          NaN  ...   \n",
       "5                    NaN            NaN                          NaN  ...   \n",
       "6                    NaN            NaN                          NaN  ...   \n",
       "7                    NaN            NaN                          NaN  ...   \n",
       "8                    NaN            NaN                          NaN  ...   \n",
       "9                    NaN            NaN                          NaN  ...   \n",
       "\n",
       "  n_repres_seg  outros CPF_deliberativo  Nome.1 cod_cargo.1          cargo.1  \\\n",
       "0          5.0  art 5°   094.055.914-52  Tonho            1              Adm   \n",
       "1          NaN     NaN              NaN     NaN           2          Diretor   \n",
       "2          NaN     NaN              NaN     NaN           3          Gerente   \n",
       "3          NaN     NaN              NaN     NaN           4           Gestor   \n",
       "4          NaN     NaN              NaN     NaN           5           Membro   \n",
       "5          NaN     NaN              NaN     NaN           6       Presidente   \n",
       "6          NaN     NaN              NaN     NaN           7       Secretário   \n",
       "7          NaN     NaN              NaN     NaN           8  Superintendente   \n",
       "8          NaN     NaN              NaN     NaN           9       Tesoureiro   \n",
       "9          NaN     NaN              NaN     NaN          10  Vice-presidente   \n",
       "\n",
       "        Complemento.1  Telefone_delib          E-mail_delib Dt_inicio_mandato  \n",
       "0  Vendedor de inhame    8.399863e+10  ruweiurwoe@gmail.com        31/12/2021  \n",
       "1                 NaN             NaN                   NaN               NaN  \n",
       "2                 NaN             NaN                   NaN               NaN  \n",
       "3                 NaN             NaN                   NaN               NaN  \n",
       "4                 NaN             NaN                   NaN               NaN  \n",
       "5                 NaN             NaN                   NaN               NaN  \n",
       "6                 NaN             NaN                   NaN               NaN  \n",
       "7                 NaN             NaN                   NaN               NaN  \n",
       "8                 NaN             NaN                   NaN               NaN  \n",
       "9                 NaN             NaN                   NaN               NaN  \n",
       "\n",
       "[10 rows x 36 columns]"
      ]
     },
     "execution_count": 141,
     "metadata": {},
     "output_type": "execute_result"
    }
   ],
   "source": [
    "time.sleep(3)\n",
    "t = 1\n",
    "df = pd.read_excel(\"plano de amortização.xlsx\", sheet_name= 8)\n",
    "df\n"
   ]
  },
  {
   "cell_type": "markdown",
   "metadata": {},
   "source": [
    "Unidade Gestora"
   ]
  },
  {
   "cell_type": "code",
   "execution_count": 104,
   "metadata": {},
   "outputs": [],
   "source": [
    "#CNPJ\n",
    "pyautogui.sleep(t)\n",
    "if len(str(df.iloc[0,0])) == 15:\n",
    "    u = \"0\" + str(df.iloc[0,0])\n",
    "    pyperclip.copy(str(u))\n",
    "    pyautogui.hotkey('ctrl', 'a')\n",
    "    pyautogui.hotkey('ctrl', 'v')\n",
    "else:\n",
    "    pyperclip.copy(df.iloc[0,0])\n",
    "    pyautogui.hotkey('ctrl', 'a')\n",
    "    pyautogui.hotkey('ctrl', 'v')\n",
    "\n",
    "pyautogui.press('tab')\n",
    "pyautogui.press('enter')\n",
    "pyautogui.press('tab')"
   ]
  },
  {
   "cell_type": "code",
   "execution_count": 105,
   "metadata": {},
   "outputs": [],
   "source": [
    "#Nome_UG\n",
    "pyautogui.sleep(t)\n",
    "pyperclip.copy(str(df.iloc[0,1]))\n",
    "pyautogui.hotkey('ctrl', 'a')\n",
    "pyautogui.hotkey('ctrl', 'v')\n",
    "pyautogui.press('tab')\n"
   ]
  },
  {
   "cell_type": "code",
   "execution_count": 106,
   "metadata": {},
   "outputs": [],
   "source": [
    "#Endereço\n",
    "pyautogui.sleep(t)\n",
    "pyperclip.copy(str(df.iloc[0,2]))\n",
    "pyautogui.hotkey('ctrl', 'a')\n",
    "pyautogui.hotkey('ctrl', 'v')\n",
    "pyautogui.press('tab')"
   ]
  },
  {
   "cell_type": "code",
   "execution_count": 107,
   "metadata": {},
   "outputs": [],
   "source": [
    "#Complemento\n",
    "pyautogui.sleep(t)\n",
    "if df.iloc[0,3] == 'nan':\n",
    "    pyperclip.copy(str(df.iloc[0,3]))\n",
    "    pyautogui.hotkey('ctrl', 'a')\n",
    "    pyautogui.hotkey('ctrl', 'v')\n",
    "    pyautogui.press('tab')\n",
    "else:\n",
    "    pyautogui.press('tab')\n"
   ]
  },
  {
   "cell_type": "code",
   "execution_count": 108,
   "metadata": {},
   "outputs": [],
   "source": [
    "#Bairro\n",
    "pyautogui.sleep(t)\n",
    "pyperclip.copy(str(df.iloc[0,4]))\n",
    "pyautogui.hotkey('ctrl', 'a')\n",
    "pyautogui.hotkey('ctrl', 'v')\n",
    "pyautogui.press('tab')"
   ]
  },
  {
   "cell_type": "code",
   "execution_count": 109,
   "metadata": {},
   "outputs": [],
   "source": [
    "#CEP\n",
    "pyautogui.sleep(t)\n",
    "pyperclip.copy(str(df.iloc[0,5]))\n",
    "pyautogui.hotkey('ctrl', 'a')\n",
    "pyautogui.hotkey('ctrl', 'v')\n",
    "pyautogui.press('tab')"
   ]
  },
  {
   "cell_type": "code",
   "execution_count": 110,
   "metadata": {},
   "outputs": [],
   "source": [
    "#Telefone\n",
    "pyautogui.sleep(t)\n",
    "u = \"0\" + str(df.iloc[0,6])\n",
    "pyperclip.copy(u)\n",
    "pyautogui.hotkey('ctrl', 'a')\n",
    "pyautogui.hotkey('ctrl', 'v')\n",
    "pyautogui.press('tab')"
   ]
  },
  {
   "cell_type": "code",
   "execution_count": 111,
   "metadata": {},
   "outputs": [],
   "source": [
    "#Email\n",
    "pyautogui.sleep(t)\n",
    "pyperclip.copy(str(df.iloc[0,7]))\n",
    "pyautogui.hotkey('ctrl', 'a')\n",
    "pyautogui.hotkey('ctrl', 'v')\n",
    "pyautogui.press('tab')"
   ]
  },
  {
   "cell_type": "code",
   "execution_count": 112,
   "metadata": {},
   "outputs": [],
   "source": [
    "#Natureza Jurídica\n",
    "pyautogui.sleep(t)\n",
    "for n in range(int(df.iloc[0,8])):\n",
    "    pyautogui.press('down')\n",
    "pyautogui.press('tab')"
   ]
  },
  {
   "cell_type": "code",
   "execution_count": 113,
   "metadata": {},
   "outputs": [],
   "source": [
    "#Descrição\n",
    "pyautogui.sleep(t)\n",
    "if int(df.iloc[0,8]) == 4:\n",
    "    pyperclip.copy(str(df.iloc[0,10]))\n",
    "    pyautogui.hotkey('ctrl', 'a')\n",
    "    pyautogui.hotkey('ctrl', 'v')\n",
    "    pyautogui.press('tab')\n",
    "else:\n",
    "    pyautogui.press('tab')"
   ]
  },
  {
   "cell_type": "code",
   "execution_count": 114,
   "metadata": {},
   "outputs": [
    {
     "data": {
      "text/plain": [
       "'Outros'"
      ]
     },
     "metadata": {},
     "output_type": "display_data"
    }
   ],
   "source": [
    "display(df.iloc[0,9])"
   ]
  },
  {
   "cell_type": "markdown",
   "metadata": {},
   "source": [
    "Representante Legal da Unidade Gestora"
   ]
  },
  {
   "cell_type": "code",
   "execution_count": 115,
   "metadata": {},
   "outputs": [],
   "source": [
    "#CPF do representante da unidade gestora\n",
    "pyautogui.sleep(t)\n",
    "pyperclip.copy(df.iloc[0,11])\n",
    "pyautogui.hotkey('ctrl', 'a')\n",
    "pyautogui.hotkey('ctrl', 'v')\n",
    "pyautogui.press('tab')\n",
    "\n",
    "pyautogui.press('space')\n",
    "pyautogui.press('tab')"
   ]
  },
  {
   "cell_type": "code",
   "execution_count": 116,
   "metadata": {},
   "outputs": [],
   "source": [
    "#Nome do representante\n",
    "pyautogui.sleep(t)\n",
    "pyperclip.copy(str(df.iloc[0,12]))\n",
    "pyautogui.hotkey('ctrl', 'a')\n",
    "pyautogui.hotkey('ctrl', 'v')\n",
    "pyautogui.press('tab')"
   ]
  },
  {
   "cell_type": "code",
   "execution_count": 117,
   "metadata": {},
   "outputs": [],
   "source": [
    "#Cargo\n",
    "pyautogui.sleep(t)\n",
    "for n in range(int(df.iloc[0,13])):\n",
    "    pyautogui.press('down')\n",
    "pyautogui.press('tab')"
   ]
  },
  {
   "cell_type": "code",
   "execution_count": 118,
   "metadata": {},
   "outputs": [],
   "source": [
    "#Complemento\n",
    "pyautogui.sleep(t)\n",
    "if df.iloc[0,14] != \"nan\":\n",
    "    pyperclip.copy(str(df.iloc[0,15]))\n",
    "    pyautogui.hotkey('ctrl', 'a')\n",
    "    pyautogui.hotkey('ctrl', 'v')\n",
    "    pyautogui.press('tab')\n",
    "else:\n",
    "    pyautogui.press('tab')"
   ]
  },
  {
   "cell_type": "code",
   "execution_count": 119,
   "metadata": {},
   "outputs": [],
   "source": [
    "#Data de início\n",
    "pyautogui.sleep(t)\n",
    "pyperclip.copy(str(df.iloc[0,16]))\n",
    "pyautogui.hotkey('ctrl', 'a')\n",
    "pyautogui.hotkey('ctrl', 'v')\n",
    "pyautogui.press('tab')"
   ]
  },
  {
   "cell_type": "code",
   "execution_count": 120,
   "metadata": {},
   "outputs": [],
   "source": [
    "#Telefone\n",
    "time.sleep(t)\n",
    "u = \"0\" + str(df.iloc[0,17])\n",
    "pyperclip.copy(u)\n",
    "pyautogui.hotkey('ctrl', 'a')\n",
    "pyautogui.hotkey('ctrl', 'v')\n",
    "\n",
    "pyautogui.press('tab')"
   ]
  },
  {
   "cell_type": "code",
   "execution_count": 121,
   "metadata": {},
   "outputs": [],
   "source": [
    "#E-mail representante da UG\n",
    "pyautogui.sleep(t)\n",
    "pyperclip.copy(str(df.iloc[0,18]))\n",
    "pyautogui.hotkey('ctrl', 'a')\n",
    "pyautogui.hotkey('ctrl', 'v')\n",
    "pyautogui.press('tab')"
   ]
  },
  {
   "cell_type": "code",
   "execution_count": 122,
   "metadata": {},
   "outputs": [],
   "source": [
    "#Denominação\n",
    "pyautogui.sleep(t)\n",
    "pyperclip.copy(str(df.iloc[0,19]))\n",
    "pyautogui.hotkey('ctrl', 'a')\n",
    "pyautogui.hotkey('ctrl', 'v')\n",
    "pyautogui.press('tab')"
   ]
  },
  {
   "cell_type": "code",
   "execution_count": 123,
   "metadata": {},
   "outputs": [],
   "source": [
    "#Tipo da Norma\n",
    "pyautogui.sleep(t)\n",
    "for n in range(int(df.iloc[0,20])):\n",
    "    pyautogui.press('down')\n",
    "pyautogui.press('tab')"
   ]
  },
  {
   "cell_type": "code",
   "execution_count": 124,
   "metadata": {},
   "outputs": [],
   "source": [
    "#Número da Norma\n",
    "pyautogui.sleep(t)\n",
    "pyperclip.copy(int(df.iloc[0,22]))\n",
    "pyautogui.hotkey('ctrl', 'a')\n",
    "pyautogui.hotkey('ctrl', 'v')\n",
    "pyautogui.press('tab')\n"
   ]
  },
  {
   "cell_type": "code",
   "execution_count": 125,
   "metadata": {},
   "outputs": [],
   "source": [
    "#Data da norma\n",
    "pyautogui.sleep(t)\n",
    "pyperclip.copy(str(df.iloc[0,23]))\n",
    "pyautogui.hotkey('ctrl', 'a')\n",
    "pyautogui.hotkey('ctrl', 'v')\n",
    "pyautogui.press('tab')\n"
   ]
  },
  {
   "cell_type": "code",
   "execution_count": 126,
   "metadata": {},
   "outputs": [],
   "source": [
    "#Dispositivo da Norma\n",
    "pyautogui.sleep(t)\n",
    "pyperclip.copy(str(df.iloc[0,24]))\n",
    "pyautogui.hotkey('ctrl', 'a')\n",
    "pyautogui.hotkey('ctrl', 'v')\n",
    "pyautogui.press('tab')"
   ]
  },
  {
   "cell_type": "code",
   "execution_count": 127,
   "metadata": {},
   "outputs": [],
   "source": [
    "#Número de Representantes do Ente\n",
    "pyautogui.sleep(t)\n",
    "pyperclip.copy(int(df.iloc[0,25]))\n",
    "pyautogui.hotkey('ctrl', 'a')\n",
    "pyautogui.hotkey('ctrl', 'v')\n",
    "pyautogui.press('tab')"
   ]
  },
  {
   "cell_type": "code",
   "execution_count": 128,
   "metadata": {},
   "outputs": [],
   "source": [
    "#Número de Representantes dos segurados\n",
    "pyautogui.sleep(t)\n",
    "pyperclip.copy(int(df.iloc[0,26]))\n",
    "pyautogui.hotkey('ctrl', 'a')\n",
    "pyautogui.hotkey('ctrl', 'v')\n",
    "pyautogui.press('tab')"
   ]
  },
  {
   "cell_type": "code",
   "execution_count": 143,
   "metadata": {},
   "outputs": [
    {
     "data": {
      "text/plain": [
       "'art 5°'"
      ]
     },
     "metadata": {},
     "output_type": "display_data"
    }
   ],
   "source": [
    "display((df.iloc[0,27]))"
   ]
  },
  {
   "cell_type": "code",
   "execution_count": 138,
   "metadata": {},
   "outputs": [],
   "source": [
    "#Outros\n",
    "pyautogui.sleep(t)\n",
    "if df.iloc[0,26] == \"nan\":\n",
    "    df.iloc[0,26] == 0\n",
    "    pyautogui.press('tab')\n",
    "else:\n",
    "    pyperclip.copy(str(df.iloc[0,27]))\n",
    "    pyautogui.hotkey('ctrl', 'a')\n",
    "    pyautogui.hotkey('ctrl', 'v')\n",
    "    pyautogui.press('tab')\n"
   ]
  },
  {
   "cell_type": "markdown",
   "metadata": {},
   "source": [
    "Representante deliberativo do RPPS"
   ]
  },
  {
   "cell_type": "code",
   "execution_count": 130,
   "metadata": {},
   "outputs": [],
   "source": [
    "#CPF \n",
    "pyautogui.sleep(t)\n",
    "pyperclip.copy(df.iloc[0,28])\n",
    "pyautogui.hotkey('ctrl', 'a')\n",
    "pyautogui.hotkey('ctrl', 'v')\n",
    "pyautogui.press('tab')\n",
    "\n",
    "\n",
    "pyautogui.press('space')\n",
    "pyautogui.press('tab')"
   ]
  },
  {
   "cell_type": "code",
   "execution_count": 131,
   "metadata": {},
   "outputs": [],
   "source": [
    "#Nome \n",
    "pyautogui.sleep(t)\n",
    "pyperclip.copy(df.iloc[0,29])\n",
    "pyautogui.hotkey('ctrl', 'a')\n",
    "pyautogui.hotkey('ctrl', 'v')\n",
    "pyautogui.press('tab')\n"
   ]
  },
  {
   "cell_type": "code",
   "execution_count": 132,
   "metadata": {},
   "outputs": [],
   "source": [
    "#Cargo\n",
    "pyautogui.sleep(t)\n",
    "for n in range(int(df.iloc[0,30])):\n",
    "    pyautogui.press('down')\n",
    "pyautogui.press('tab')"
   ]
  },
  {
   "cell_type": "code",
   "execution_count": 133,
   "metadata": {},
   "outputs": [],
   "source": [
    "#Complemento:\n",
    "pyautogui.sleep(t)\n",
    "if df.iloc[0,30] != \"nan\":\n",
    "    pyperclip.copy(df.iloc[0,32])\n",
    "    pyautogui.hotkey('ctrl', 'a')\n",
    "    pyautogui.hotkey('ctrl', 'v')\n",
    "    pyautogui.press('tab')\n",
    "else:\n",
    "    pyautogui.press('tab')"
   ]
  },
  {
   "cell_type": "code",
   "execution_count": 134,
   "metadata": {},
   "outputs": [],
   "source": [
    "#Telefone \n",
    "time.sleep(t)\n",
    "u = \"0\" + str(df.iloc[0,33])\n",
    "pyperclip.copy(u)\n",
    "pyautogui.hotkey('ctrl', 'a')\n",
    "pyautogui.hotkey('ctrl', 'v')\n",
    "\n",
    "pyautogui.press('tab')"
   ]
  },
  {
   "cell_type": "code",
   "execution_count": 135,
   "metadata": {},
   "outputs": [],
   "source": [
    "#E-mail\n",
    "pyautogui.sleep(t)\n",
    "pyperclip.copy(df.iloc[0,34])\n",
    "pyautogui.hotkey('ctrl', 'a')\n",
    "pyautogui.hotkey('ctrl', 'v')\n",
    "pyautogui.press('tab')\n"
   ]
  },
  {
   "cell_type": "code",
   "execution_count": 136,
   "metadata": {},
   "outputs": [],
   "source": [
    "#Data de início do mandato\n",
    "pyautogui.sleep(t)\n",
    "pyperclip.copy(df.iloc[0,35])\n",
    "pyautogui.hotkey('ctrl', 'a')\n",
    "pyautogui.hotkey('ctrl', 'v')\n",
    "pyautogui.press('tab')"
   ]
  }
 ],
 "metadata": {
  "kernelspec": {
   "display_name": "Python 3.10.8 64-bit (microsoft store)",
   "language": "python",
   "name": "python3"
  },
  "language_info": {
   "codemirror_mode": {
    "name": "ipython",
    "version": 3
   },
   "file_extension": ".py",
   "mimetype": "text/x-python",
   "name": "python",
   "nbconvert_exporter": "python",
   "pygments_lexer": "ipython3",
   "version": "3.10.8"
  },
  "orig_nbformat": 4,
  "vscode": {
   "interpreter": {
    "hash": "98bfc96c88827eb559aec2321a084f4367a52548f8a2346d493bf636bf0b6745"
   }
  }
 },
 "nbformat": 4,
 "nbformat_minor": 2
}
