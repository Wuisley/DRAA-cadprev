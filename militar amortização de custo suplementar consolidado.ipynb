{
 "cells": [
  {
   "cell_type": "code",
   "execution_count": null,
   "metadata": {},
   "outputs": [],
   "source": [
    "#!pip install pyautogui\n",
    "#!pip install opencv-python\n",
    "#!pip install Openpyxl\n",
    "#!pip install workbook\n",
    "#!pip install pandas\n",
    "#!pip install pywin32\n",
    "#!pip install pyinstaller (para deixar o script executável)"
   ]
  },
  {
   "cell_type": "code",
   "execution_count": 1,
   "metadata": {},
   "outputs": [],
   "source": [
    "import openpyxl as py\n",
    "import pyautogui \n",
    "import pyperclip #para conseguir usar texto com caracteres especiais\n",
    "import time #para conseguir dar pausa em uma etapa específica\n",
    "import pandas as pd\n",
    "\n",
    "#pyautogui.PAUSE = 1 (para poder pausar entre cada linha de código em um tempo determinado. Lembrar que a primeira linha não vai ter espera, só tem entre uma e outra)\n",
    "#time.sleep(1) (para poder pausar apenas uma linha de código, o resto roda normalmente)"
   ]
  },
  {
   "cell_type": "code",
   "execution_count": 4,
   "metadata": {},
   "outputs": [
    {
     "data": {
      "text/plain": [
       "'aportes'"
      ]
     },
     "execution_count": 4,
     "metadata": {},
     "output_type": "execute_result"
    }
   ],
   "source": [
    "df = pd.read_excel('plano de amortização.xlsx', sheet_name=13)\n",
    "\n",
    "tipo = df.loc[0,'tipo_amortizacao']\n",
    "tipo\n"
   ]
  },
  {
   "cell_type": "code",
   "execution_count": 5,
   "metadata": {},
   "outputs": [
    {
     "ename": "KeyboardInterrupt",
     "evalue": "",
     "output_type": "error",
     "traceback": [
      "\u001b[1;31m---------------------------------------------------------------------------\u001b[0m",
      "\u001b[1;31mKeyboardInterrupt\u001b[0m                         Traceback (most recent call last)",
      "Cell \u001b[1;32mIn [5], line 15\u001b[0m\n\u001b[0;32m     11\u001b[0m base_de_calculo \u001b[39m=\u001b[39m df\u001b[39m.\u001b[39mloc[i, \u001b[39m\"\u001b[39m\u001b[39mbase_de_calculo\u001b[39m\u001b[39m\"\u001b[39m]\n\u001b[0;32m     13\u001b[0m pyperclip\u001b[39m.\u001b[39mcopy(\u001b[39mstr\u001b[39m(ano))\n\u001b[1;32m---> 15\u001b[0m pyautogui\u001b[39m.\u001b[39;49mhotkey(\u001b[39m'\u001b[39;49m\u001b[39mctrl\u001b[39;49m\u001b[39m'\u001b[39;49m,\u001b[39m'\u001b[39;49m\u001b[39mv\u001b[39;49m\u001b[39m'\u001b[39;49m)\n\u001b[0;32m     16\u001b[0m pyautogui\u001b[39m.\u001b[39mpress(\u001b[39m'\u001b[39m\u001b[39mtab\u001b[39m\u001b[39m'\u001b[39m)\n\u001b[0;32m     18\u001b[0m pyperclip\u001b[39m.\u001b[39mcopy(\u001b[39mstr\u001b[39m(taxa))\n",
      "File \u001b[1;32mc:\\Users\\wuisl\\AppData\\Local\\Programs\\Python\\Python311\\Lib\\site-packages\\pyautogui\\__init__.py:599\u001b[0m, in \u001b[0;36m_genericPyAutoGUIChecks.<locals>.wrapper\u001b[1;34m(*args, **kwargs)\u001b[0m\n\u001b[0;32m    597\u001b[0m failSafeCheck()\n\u001b[0;32m    598\u001b[0m returnVal \u001b[39m=\u001b[39m wrappedFunction(\u001b[39m*\u001b[39margs, \u001b[39m*\u001b[39m\u001b[39m*\u001b[39mkwargs)\n\u001b[1;32m--> 599\u001b[0m _handlePause(kwargs\u001b[39m.\u001b[39;49mget(\u001b[39m\"\u001b[39;49m\u001b[39m_pause\u001b[39;49m\u001b[39m\"\u001b[39;49m, \u001b[39mTrue\u001b[39;49;00m))\n\u001b[0;32m    600\u001b[0m \u001b[39mreturn\u001b[39;00m returnVal\n",
      "File \u001b[1;32mc:\\Users\\wuisl\\AppData\\Local\\Programs\\Python\\Python311\\Lib\\site-packages\\pyautogui\\__init__.py:643\u001b[0m, in \u001b[0;36m_handlePause\u001b[1;34m(_pause)\u001b[0m\n\u001b[0;32m    641\u001b[0m \u001b[39mif\u001b[39;00m _pause:\n\u001b[0;32m    642\u001b[0m     \u001b[39massert\u001b[39;00m \u001b[39misinstance\u001b[39m(PAUSE, \u001b[39mint\u001b[39m) \u001b[39mor\u001b[39;00m \u001b[39misinstance\u001b[39m(PAUSE, \u001b[39mfloat\u001b[39m)\n\u001b[1;32m--> 643\u001b[0m     time\u001b[39m.\u001b[39msleep(PAUSE)\n",
      "\u001b[1;31mKeyboardInterrupt\u001b[0m: "
     ]
    }
   ],
   "source": [
    "#para aportes postecipadas\n",
    "\n",
    "if tipo == 'aportes' :\n",
    "\n",
    "    time.sleep(3)\n",
    "    for i, celula in enumerate(df[\"ano\"]):\n",
    "        ano = df.loc[i, \"ano\"]\n",
    "        taxa = df.loc[i, \"tx_juros\"]\n",
    "        aportes = df.loc[i, \"aportes\"]\n",
    "        aliquotas = df.loc[i, \"aliquotas\"]\n",
    "        base_de_calculo = df.loc[i, \"base_de_calculo\"]\n",
    "\n",
    "        pyperclip.copy(str(ano))\n",
    "\n",
    "        pyautogui.hotkey('ctrl','v')\n",
    "        pyautogui.press('tab')\n",
    "\n",
    "        pyperclip.copy(str(taxa))\n",
    "\n",
    "        pyautogui.hotkey('ctrl','v')\n",
    "        pyautogui.press('tab')\n",
    "\n",
    "        pyperclip.copy(str(aportes))\n",
    "\n",
    "        pyautogui.hotkey('ctrl','v')\n",
    "        pyautogui.press('tab')\n",
    "\n",
    "        pyautogui.press('space')\n",
    "        pyautogui.hotkey('shift','tab')\n",
    "        pyautogui.hotkey('shift','tab')\n",
    "        pyautogui.hotkey('shift','tab')\n",
    "\n",
    "else :\n",
    "\n",
    "#para aliquotas  \n",
    "\n",
    "    time.sleep(3)\n",
    "    for i, celula in enumerate(df[\"ano\"]):\n",
    "        ano = df.loc[i, \"ano\"]\n",
    "        taxa = df.loc[i, \"tx_juros\"]\n",
    "        aportes = df.loc[i, \"aportes\"]\n",
    "        aliquotas = df.loc[i, \"aliquotas\"]\n",
    "        base_de_calculo = df.loc[i, \"base_de_calculo\"]\n",
    "\n",
    "        pyperclip.copy(str(ano))\n",
    "\n",
    "        pyautogui.hotkey('ctrl','v')\n",
    "        pyautogui.press('tab')\n",
    "\n",
    "        pyperclip.copy(str(taxa))\n",
    "\n",
    "        pyautogui.hotkey('ctrl','v')\n",
    "        pyautogui.press('tab')\n",
    "\n",
    "        pyperclip.copy(str(aliquotas))\n",
    "\n",
    "        pyautogui.hotkey('ctrl','v')\n",
    "        pyautogui.press('tab')\n",
    "\n",
    "        pyperclip.copy(str(base_de_calculo))\n",
    "\n",
    "        pyautogui.hotkey('ctrl','v')\n",
    "        pyautogui.press('tab')\n",
    "\n",
    "        pyautogui.press('space')\n",
    "        pyautogui.hotkey('shift','tab')\n",
    "        pyautogui.hotkey('shift','tab')\n",
    "        pyautogui.hotkey('shift','tab')\n",
    "        pyautogui.hotkey('shift','tab')"
   ]
  },
  {
   "cell_type": "code",
   "execution_count": null,
   "metadata": {},
   "outputs": [],
   "source": []
  }
 ],
 "metadata": {
  "kernelspec": {
   "display_name": "Python 3.11.0 64-bit",
   "language": "python",
   "name": "python3"
  },
  "language_info": {
   "codemirror_mode": {
    "name": "ipython",
    "version": 3
   },
   "file_extension": ".py",
   "mimetype": "text/x-python",
   "name": "python",
   "nbconvert_exporter": "python",
   "pygments_lexer": "ipython3",
   "version": "3.11.0"
  },
  "vscode": {
   "interpreter": {
    "hash": "963839805469506d869b787f0b31e17a3814d794973f453d6749ac9bc0846d0c"
   }
  }
 },
 "nbformat": 4,
 "nbformat_minor": 2
}
