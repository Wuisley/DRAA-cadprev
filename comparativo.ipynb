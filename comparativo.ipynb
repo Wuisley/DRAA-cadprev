{
 "cells": [
  {
   "cell_type": "code",
   "execution_count": 186,
   "metadata": {},
   "outputs": [],
   "source": [
    "#!pip install pandas\n",
    "#!pip install pyautogui\n",
    "#!pip install pyperclip"
   ]
  },
  {
   "cell_type": "code",
   "execution_count": 306,
   "metadata": {},
   "outputs": [],
   "source": [
    "#importando bicliotecas\n",
    "import pyautogui\n",
    "import pandas as pd\n",
    "import pyperclip\n",
    "import time"
   ]
  },
  {
   "cell_type": "code",
   "execution_count": 307,
   "metadata": {},
   "outputs": [
    {
     "data": {
      "text/html": [
       "<div>\n",
       "<style scoped>\n",
       "    .dataframe tbody tr th:only-of-type {\n",
       "        vertical-align: middle;\n",
       "    }\n",
       "\n",
       "    .dataframe tbody tr th {\n",
       "        vertical-align: top;\n",
       "    }\n",
       "\n",
       "    .dataframe thead th {\n",
       "        text-align: right;\n",
       "    }\n",
       "</style>\n",
       "<table border=\"1\" class=\"dataframe\">\n",
       "  <thead>\n",
       "    <tr style=\"text-align: right;\">\n",
       "      <th></th>\n",
       "      <th>Descrição</th>\n",
       "      <th>Ano1</th>\n",
       "      <th>Ano2</th>\n",
       "      <th>Ano3</th>\n",
       "    </tr>\n",
       "  </thead>\n",
       "  <tbody>\n",
       "    <tr>\n",
       "      <th>0</th>\n",
       "      <td>BASE NORMATIVA</td>\n",
       "      <td>NaN</td>\n",
       "      <td>NaN</td>\n",
       "      <td>NaN</td>\n",
       "    </tr>\n",
       "    <tr>\n",
       "      <th>1</th>\n",
       "      <td>PLANO DE CUSTEIO VIGENTE</td>\n",
       "      <td>NaN</td>\n",
       "      <td>NaN</td>\n",
       "      <td>NaN</td>\n",
       "    </tr>\n",
       "    <tr>\n",
       "      <th>2</th>\n",
       "      <td>Contribuição Normal - Ente Federativo</td>\n",
       "      <td>2600</td>\n",
       "      <td>2626</td>\n",
       "      <td>2652.26</td>\n",
       "    </tr>\n",
       "    <tr>\n",
       "      <th>3</th>\n",
       "      <td>BASE CADASTRAL</td>\n",
       "      <td>NaN</td>\n",
       "      <td>NaN</td>\n",
       "      <td>NaN</td>\n",
       "    </tr>\n",
       "    <tr>\n",
       "      <th>4</th>\n",
       "      <td>ESTATÍSTICAS DA POPULAÇÃO COBERTA</td>\n",
       "      <td>NaN</td>\n",
       "      <td>NaN</td>\n",
       "      <td>NaN</td>\n",
       "    </tr>\n",
       "    <tr>\n",
       "      <th>5</th>\n",
       "      <td>Quantidade de Segurados Ativos</td>\n",
       "      <td>11111</td>\n",
       "      <td>11222.11</td>\n",
       "      <td>11334.3311</td>\n",
       "    </tr>\n",
       "    <tr>\n",
       "      <th>6</th>\n",
       "      <td>Quantidade de Aposentados</td>\n",
       "      <td>2222</td>\n",
       "      <td>2244.22</td>\n",
       "      <td>2266.6622</td>\n",
       "    </tr>\n",
       "    <tr>\n",
       "      <th>7</th>\n",
       "      <td>Quantidade de Pensionistas</td>\n",
       "      <td>3333</td>\n",
       "      <td>3366.33</td>\n",
       "      <td>3399.9933</td>\n",
       "    </tr>\n",
       "    <tr>\n",
       "      <th>8</th>\n",
       "      <td>Média da Base de Cálculo dos Segurados A...</td>\n",
       "      <td>4444</td>\n",
       "      <td>4488.44</td>\n",
       "      <td>4533.3244</td>\n",
       "    </tr>\n",
       "    <tr>\n",
       "      <th>9</th>\n",
       "      <td>Média do Valor do Beneficio dos Aposentados</td>\n",
       "      <td>5555</td>\n",
       "      <td>5610.55</td>\n",
       "      <td>5666.6555</td>\n",
       "    </tr>\n",
       "    <tr>\n",
       "      <th>10</th>\n",
       "      <td>Média do Valor do Benefícios dos Pension...</td>\n",
       "      <td>6666</td>\n",
       "      <td>6732.66</td>\n",
       "      <td>6799.9866</td>\n",
       "    </tr>\n",
       "    <tr>\n",
       "      <th>11</th>\n",
       "      <td>Idade Média dos Segurados Ativos</td>\n",
       "      <td>7777</td>\n",
       "      <td>7854.77</td>\n",
       "      <td>7933.3177</td>\n",
       "    </tr>\n",
       "    <tr>\n",
       "      <th>12</th>\n",
       "      <td>Idade Média dos Aposentados</td>\n",
       "      <td>8888</td>\n",
       "      <td>8976.88</td>\n",
       "      <td>9066.6488</td>\n",
       "    </tr>\n",
       "    <tr>\n",
       "      <th>13</th>\n",
       "      <td>Idade Média dos Pensionistas</td>\n",
       "      <td>9999</td>\n",
       "      <td>10098.99</td>\n",
       "      <td>10199.9799</td>\n",
       "    </tr>\n",
       "    <tr>\n",
       "      <th>14</th>\n",
       "      <td>Idade Média Projetada Para Aposentadoria</td>\n",
       "      <td>1010</td>\n",
       "      <td>1020.1</td>\n",
       "      <td>1030.301</td>\n",
       "    </tr>\n",
       "    <tr>\n",
       "      <th>15</th>\n",
       "      <td>BASE TÉCNICA</td>\n",
       "      <td>NaN</td>\n",
       "      <td>NaN</td>\n",
       "      <td>NaN</td>\n",
       "    </tr>\n",
       "    <tr>\n",
       "      <th>16</th>\n",
       "      <td>REGIMES E MÉTODOS DE FINANCIAMENTO</td>\n",
       "      <td>NaN</td>\n",
       "      <td>NaN</td>\n",
       "      <td>NaN</td>\n",
       "    </tr>\n",
       "    <tr>\n",
       "      <th>17</th>\n",
       "      <td>Método de Financiamento Adotado</td>\n",
       "      <td>AGREGADO 2</td>\n",
       "      <td>AGREGADO 2</td>\n",
       "      <td>AGREGADO 2</td>\n",
       "    </tr>\n",
       "    <tr>\n",
       "      <th>18</th>\n",
       "      <td>RESULTADOS</td>\n",
       "      <td>NaN</td>\n",
       "      <td>NaN</td>\n",
       "      <td>NaN</td>\n",
       "    </tr>\n",
       "    <tr>\n",
       "      <th>19</th>\n",
       "      <td>VALORES DOS COMPROMISSOS</td>\n",
       "      <td>NaN</td>\n",
       "      <td>NaN</td>\n",
       "      <td>NaN</td>\n",
       "    </tr>\n",
       "    <tr>\n",
       "      <th>20</th>\n",
       "      <td>Ativos Garantidores dos Compromissos do ...</td>\n",
       "      <td>615548334</td>\n",
       "      <td>621703817.34</td>\n",
       "      <td>627920855.5134</td>\n",
       "    </tr>\n",
       "    <tr>\n",
       "      <th>21</th>\n",
       "      <td>Valor Atual dos Benefícios Futuros - Ben...</td>\n",
       "      <td>20127686644</td>\n",
       "      <td>20328963510.439999</td>\n",
       "      <td>20532253145.544399</td>\n",
       "    </tr>\n",
       "    <tr>\n",
       "      <th>22</th>\n",
       "      <td>Valor Atual das Contribuições Futuras - ...</td>\n",
       "      <td>44331443</td>\n",
       "      <td>44774757.43</td>\n",
       "      <td>45222505.0043</td>\n",
       "    </tr>\n",
       "    <tr>\n",
       "      <th>23</th>\n",
       "      <td>Reserva Matemática dos Benefícios Conced...</td>\n",
       "      <td>20083355201</td>\n",
       "      <td>20284188753.009998</td>\n",
       "      <td>20487030640.5401</td>\n",
       "    </tr>\n",
       "    <tr>\n",
       "      <th>24</th>\n",
       "      <td>Valor Atual dos Benefícios Futuros - Ben...</td>\n",
       "      <td>18456662527</td>\n",
       "      <td>18641229152.27</td>\n",
       "      <td>18827641443.792702</td>\n",
       "    </tr>\n",
       "    <tr>\n",
       "      <th>25</th>\n",
       "      <td>Valor Atual das Contribuições Futuras - ...</td>\n",
       "      <td>7533249022</td>\n",
       "      <td>7608581512.22</td>\n",
       "      <td>7684667327.3422</td>\n",
       "    </tr>\n",
       "    <tr>\n",
       "      <th>26</th>\n",
       "      <td>Reserva Matemática dos Benefícios a Conc...</td>\n",
       "      <td>10923413505</td>\n",
       "      <td>11032647640.049999</td>\n",
       "      <td>11142974116.450499</td>\n",
       "    </tr>\n",
       "    <tr>\n",
       "      <th>27</th>\n",
       "      <td>Valor Atual da Compensação Financeira a ...</td>\n",
       "      <td>1396386982</td>\n",
       "      <td>1410350851.82</td>\n",
       "      <td>1424454360.3382</td>\n",
       "    </tr>\n",
       "    <tr>\n",
       "      <th>28</th>\n",
       "      <td>Valor Atual da Compensação Financeira a ...</td>\n",
       "      <td>88484877</td>\n",
       "      <td>89369725.77</td>\n",
       "      <td>90263423.0277</td>\n",
       "    </tr>\n",
       "    <tr>\n",
       "      <th>29</th>\n",
       "      <td>Resultado Atuarial</td>\n",
       "      <td>28994833390</td>\n",
       "      <td>29284781723.900002</td>\n",
       "      <td>29577629541.139</td>\n",
       "    </tr>\n",
       "    <tr>\n",
       "      <th>30</th>\n",
       "      <td>CUSTO NORMAL</td>\n",
       "      <td>NaN</td>\n",
       "      <td>NaN</td>\n",
       "      <td>NaN</td>\n",
       "    </tr>\n",
       "    <tr>\n",
       "      <th>31</th>\n",
       "      <td>CUSTO ANUAL PREVISTO (% SOBRE BASE DE CONTR...</td>\n",
       "      <td>NaN</td>\n",
       "      <td>NaN</td>\n",
       "      <td>NaN</td>\n",
       "    </tr>\n",
       "    <tr>\n",
       "      <th>32</th>\n",
       "      <td>Benefícios em Regime de Capitalização (%)</td>\n",
       "      <td>3539.680738</td>\n",
       "      <td>3575.077545</td>\n",
       "      <td>3610.828321</td>\n",
       "    </tr>\n",
       "    <tr>\n",
       "      <th>33</th>\n",
       "      <td>Benefícios em Regime de Repartição de Ca...</td>\n",
       "      <td>360.319263</td>\n",
       "      <td>363.922456</td>\n",
       "      <td>367.56168</td>\n",
       "    </tr>\n",
       "    <tr>\n",
       "      <th>34</th>\n",
       "      <td>Benefícios em Regime de Repartição Simpl...</td>\n",
       "      <td>3539.680738</td>\n",
       "      <td>3575.077545</td>\n",
       "      <td>3610.828321</td>\n",
       "    </tr>\n",
       "    <tr>\n",
       "      <th>35</th>\n",
       "      <td>ALÍQUOTAS DE CUSTEIO NORMAL DEFINIDAS</td>\n",
       "      <td>NaN</td>\n",
       "      <td>NaN</td>\n",
       "      <td>NaN</td>\n",
       "    </tr>\n",
       "    <tr>\n",
       "      <th>36</th>\n",
       "      <td>Ente Federativo - Contribuição Normal</td>\n",
       "      <td>2400</td>\n",
       "      <td>2424</td>\n",
       "      <td>2448.24</td>\n",
       "    </tr>\n",
       "    <tr>\n",
       "      <th>37</th>\n",
       "      <td>Taxa de Administração</td>\n",
       "      <td>200</td>\n",
       "      <td>202</td>\n",
       "      <td>204.02</td>\n",
       "    </tr>\n",
       "  </tbody>\n",
       "</table>\n",
       "</div>"
      ],
      "text/plain": [
       "                                            Descrição         Ano1  \\\n",
       "0                                      BASE NORMATIVA          NaN   \n",
       "1                            PLANO DE CUSTEIO VIGENTE          NaN   \n",
       "2               Contribuição Normal - Ente Federativo         2600   \n",
       "3                                      BASE CADASTRAL          NaN   \n",
       "4                   ESTATÍSTICAS DA POPULAÇÃO COBERTA          NaN   \n",
       "5                      Quantidade de Segurados Ativos        11111   \n",
       "6                           Quantidade de Aposentados         2222   \n",
       "7                          Quantidade de Pensionistas         3333   \n",
       "8         Média da Base de Cálculo dos Segurados A...         4444   \n",
       "9         Média do Valor do Beneficio dos Aposentados         5555   \n",
       "10        Média do Valor do Benefícios dos Pension...         6666   \n",
       "11                   Idade Média dos Segurados Ativos         7777   \n",
       "12                        Idade Média dos Aposentados         8888   \n",
       "13                       Idade Média dos Pensionistas         9999   \n",
       "14           Idade Média Projetada Para Aposentadoria         1010   \n",
       "15                                       BASE TÉCNICA          NaN   \n",
       "16                 REGIMES E MÉTODOS DE FINANCIAMENTO          NaN   \n",
       "17                    Método de Financiamento Adotado   AGREGADO 2   \n",
       "18                                         RESULTADOS          NaN   \n",
       "19                           VALORES DOS COMPROMISSOS          NaN   \n",
       "20        Ativos Garantidores dos Compromissos do ...    615548334   \n",
       "21        Valor Atual dos Benefícios Futuros - Ben...  20127686644   \n",
       "22        Valor Atual das Contribuições Futuras - ...     44331443   \n",
       "23        Reserva Matemática dos Benefícios Conced...  20083355201   \n",
       "24        Valor Atual dos Benefícios Futuros - Ben...  18456662527   \n",
       "25        Valor Atual das Contribuições Futuras - ...   7533249022   \n",
       "26        Reserva Matemática dos Benefícios a Conc...  10923413505   \n",
       "27        Valor Atual da Compensação Financeira a ...   1396386982   \n",
       "28        Valor Atual da Compensação Financeira a ...     88484877   \n",
       "29                                 Resultado Atuarial  28994833390   \n",
       "30                                       CUSTO NORMAL          NaN   \n",
       "31     CUSTO ANUAL PREVISTO (% SOBRE BASE DE CONTR...          NaN   \n",
       "32          Benefícios em Regime de Capitalização (%)  3539.680738   \n",
       "33        Benefícios em Regime de Repartição de Ca...   360.319263   \n",
       "34        Benefícios em Regime de Repartição Simpl...  3539.680738   \n",
       "35              ALÍQUOTAS DE CUSTEIO NORMAL DEFINIDAS          NaN   \n",
       "36              Ente Federativo - Contribuição Normal         2400   \n",
       "37                              Taxa de Administração          200   \n",
       "\n",
       "                  Ano2                Ano3  \n",
       "0                  NaN                 NaN  \n",
       "1                  NaN                 NaN  \n",
       "2                 2626             2652.26  \n",
       "3                  NaN                 NaN  \n",
       "4                  NaN                 NaN  \n",
       "5             11222.11          11334.3311  \n",
       "6              2244.22           2266.6622  \n",
       "7              3366.33           3399.9933  \n",
       "8              4488.44           4533.3244  \n",
       "9              5610.55           5666.6555  \n",
       "10             6732.66           6799.9866  \n",
       "11             7854.77           7933.3177  \n",
       "12             8976.88           9066.6488  \n",
       "13            10098.99          10199.9799  \n",
       "14              1020.1            1030.301  \n",
       "15                 NaN                 NaN  \n",
       "16                 NaN                 NaN  \n",
       "17          AGREGADO 2          AGREGADO 2  \n",
       "18                 NaN                 NaN  \n",
       "19                 NaN                 NaN  \n",
       "20        621703817.34      627920855.5134  \n",
       "21  20328963510.439999  20532253145.544399  \n",
       "22         44774757.43       45222505.0043  \n",
       "23  20284188753.009998    20487030640.5401  \n",
       "24      18641229152.27  18827641443.792702  \n",
       "25       7608581512.22     7684667327.3422  \n",
       "26  11032647640.049999  11142974116.450499  \n",
       "27       1410350851.82     1424454360.3382  \n",
       "28         89369725.77       90263423.0277  \n",
       "29  29284781723.900002     29577629541.139  \n",
       "30                 NaN                 NaN  \n",
       "31                 NaN                 NaN  \n",
       "32         3575.077545         3610.828321  \n",
       "33          363.922456           367.56168  \n",
       "34         3575.077545         3610.828321  \n",
       "35                 NaN                 NaN  \n",
       "36                2424             2448.24  \n",
       "37                 202              204.02  "
      ]
     },
     "execution_count": 307,
     "metadata": {},
     "output_type": "execute_result"
    }
   ],
   "source": [
    "df = pd.read_excel(\"plano de amortização.xlsx\", sheet_name= 3)\n",
    "df"
   ]
  },
  {
   "cell_type": "code",
   "execution_count": 308,
   "metadata": {},
   "outputs": [],
   "source": [
    "###DEFININDO AS VARIÁVEIS###\n",
    "\n",
    "##ANO1##\n",
    "cn_ano1 = df.loc[2,'Ano1']\n",
    "estatistica_ano1 = df.loc[5:14, 'Ano1']\n",
    "metodo_ano1= df.loc[17,\"Ano1\"]\n",
    "vl_dos_compromissos_ano1 = df.loc[20:29, 'Ano1']\n",
    "custo_anual_prev_ano1 = df.loc[32:34, 'Ano1']\n",
    "aliquotas_ano1 = df.loc[36:37, 'Ano1']\n",
    "\n",
    "##ANO2##\n",
    "cn_ano2 = df.loc[2,'Ano2']\n",
    "estatistica_ano2 = df.loc[5:14, 'Ano2']\n",
    "metodo_ano2= df.loc[17,\"Ano2\"]\n",
    "vl_dos_compromissos_ano2 = df.loc[20:29, 'Ano2']\n",
    "custo_anual_prev_ano2 = df.loc[32:34, 'Ano2']\n",
    "aliquotas_ano2 = df.loc[36:37, 'Ano2']\n",
    "\n",
    "##ANO3##\n",
    "cn_ano3 = df.loc[2,'Ano3']\n",
    "estatistica_ano3 = df.loc[5:14, 'Ano3']\n",
    "metodo_ano3= df.loc[17,\"Ano3\"]\n",
    "vl_dos_compromissos_ano3 = df.loc[20:29, 'Ano3']\n",
    "custo_anual_prev_ano3 = df.loc[32:34, 'Ano3']\n",
    "aliquotas_ano3 = df.loc[36:37, 'Ano3']"
   ]
  },
  {
   "cell_type": "code",
   "execution_count": 309,
   "metadata": {},
   "outputs": [],
   "source": [
    "time.sleep(3)\n",
    "pyautogui.position() #1538\n",
    "a , b = pyautogui.position() \n",
    "a\n",
    "\n",
    "f = a + 190\n",
    "f\n",
    "\n",
    "g = f + 190\n",
    "\n",
    "t = 0 #tempo de intervaldo entre blocos"
   ]
  },
  {
   "cell_type": "code",
   "execution_count": 310,
   "metadata": {},
   "outputs": [],
   "source": [
    "#CONTRIBUIÇÃO NORMAL - ANO1\n",
    "time.sleep(t)\n",
    "pyperclip.copy(str(cn_ano1))\n",
    "pyautogui.click(x = a , y = b, clicks= 2)\n",
    "pyautogui.hotkey('ctrl', 'v')\n"
   ]
  },
  {
   "cell_type": "code",
   "execution_count": 311,
   "metadata": {},
   "outputs": [
    {
     "data": {
      "text/plain": [
       "682"
      ]
     },
     "metadata": {},
     "output_type": "display_data"
    }
   ],
   "source": [
    "#ESTATÍSTICAS DA POPULAÇÃO COBERTA  - ANO1\n",
    "\n",
    "time.sleep(t)\n",
    "i = b + (3*20)\n",
    "pyautogui.click(x=a, y=b, clicks = 2) \n",
    "\n",
    "for n in estatistica_ano1.index:\n",
    "    x = estatistica_ano1[n]\n",
    "    pyautogui.click(x=a, y=i, clicks = 2) \n",
    "    pyperclip.copy(str(x))\n",
    "    pyautogui.hotkey('ctrl', 'v')\n",
    "    pyautogui.press('enter')\n",
    "    pyautogui.press('down')\n",
    "    i = i + 20\n",
    "display(i)"
   ]
  },
  {
   "cell_type": "code",
   "execution_count": 312,
   "metadata": {},
   "outputs": [],
   "source": [
    "#MÉTODO  - ANO1\n",
    "time.sleep(t)\n",
    "pyautogui.click(x = a , y = (i + (2*d)), clicks= 2)\n",
    "pyautogui.hotkey('ctrl', 'a')\n",
    "pyautogui.press('delete')\n",
    "pyperclip.copy(str(metodo_ano1))\n",
    "pyautogui.hotkey('ctrl', 'v')\n",
    "pyautogui.press('down')"
   ]
  },
  {
   "cell_type": "code",
   "execution_count": 313,
   "metadata": {},
   "outputs": [],
   "source": [
    "time.sleep(t)\n",
    "for n in range(19):\n",
    "    pyautogui.press('enter')\n"
   ]
  },
  {
   "cell_type": "code",
   "execution_count": 314,
   "metadata": {},
   "outputs": [
    {
     "data": {
      "text/plain": [
       "682"
      ]
     },
     "metadata": {},
     "output_type": "display_data"
    }
   ],
   "source": [
    "display(i)"
   ]
  },
  {
   "cell_type": "code",
   "execution_count": 315,
   "metadata": {},
   "outputs": [
    {
     "data": {
      "text/plain": [
       "790"
      ]
     },
     "metadata": {},
     "output_type": "display_data"
    }
   ],
   "source": [
    "#VALORES DOS COMPROMISSOS - ANO1\n",
    "time.sleep(t)\n",
    "i = i - 4*d\n",
    "pyautogui.click(x=a, y=i, clicks = 2) \n",
    "\n",
    "for n in vl_dos_compromissos_ano1.index:\n",
    "    x = vl_dos_compromissos_ano1[n]\n",
    "    pyautogui.click(x=a, y=i, clicks = 2) \n",
    "    pyperclip.copy(str(x))\n",
    "    #pyautogui.hotkey('ctrl', 'a')\n",
    "    #pyautogui.press('delete')\n",
    "    pyautogui.hotkey('ctrl', 'v')\n",
    "    pyautogui.press('enter')\n",
    "    i = i + 20\n",
    "display(i)\n",
    "\n",
    "pyautogui.press('tab')"
   ]
  },
  {
   "cell_type": "code",
   "execution_count": 316,
   "metadata": {},
   "outputs": [
    {
     "data": {
      "text/plain": [
       "890"
      ]
     },
     "metadata": {},
     "output_type": "display_data"
    }
   ],
   "source": [
    "#CUSTO ANUAL PREVISTO - ANO1\n",
    "time.sleep(t)\n",
    "i = i + 40\n",
    "pyautogui.click(x=a, y=i, clicks = 2) \n",
    "\n",
    "for n in custo_anual_prev_ano1.index:\n",
    "    x = custo_anual_prev_ano1[n]\n",
    "    pyautogui.click(x=a, y=i, clicks = 2) \n",
    "    pyperclip.copy(str(x))\n",
    "    pyautogui.hotkey('ctrl', 'v')\n",
    "    pyautogui.press('enter')\n",
    "    i = i + 20\n",
    "display(i)\n"
   ]
  },
  {
   "cell_type": "code",
   "execution_count": 317,
   "metadata": {},
   "outputs": [
    {
     "data": {
      "text/plain": [
       "36    2400\n",
       "37     200\n",
       "Name: Ano1, dtype: object"
      ]
     },
     "metadata": {},
     "output_type": "display_data"
    }
   ],
   "source": [
    "display(aliquotas_ano1)"
   ]
  },
  {
   "cell_type": "code",
   "execution_count": 318,
   "metadata": {},
   "outputs": [
    {
     "data": {
      "text/plain": [
       "950"
      ]
     },
     "metadata": {},
     "output_type": "display_data"
    }
   ],
   "source": [
    "#ALIQUOTAS - ANO2\n",
    "time.sleep(t)\n",
    "i = i + 20\n",
    "pyautogui.click(x=a, y=i, clicks = 2) \n",
    "\n",
    "for n in aliquotas_ano1.index:\n",
    "    x = aliquotas_ano1[n]\n",
    "    pyautogui.click(x=a, y=i, clicks = 2) \n",
    "    pyperclip.copy(str(x))\n",
    "    pyautogui.hotkey('ctrl', 'v')\n",
    "    pyautogui.press('enter')\n",
    "    i = i + 20\n",
    "pyautogui.press('tab')\n",
    "display(i)"
   ]
  },
  {
   "cell_type": "code",
   "execution_count": 319,
   "metadata": {},
   "outputs": [],
   "source": [
    "#VOLTANDO AO TOPO\n",
    "time.sleep(t)\n",
    "pyautogui.press('enter')"
   ]
  },
  {
   "cell_type": "code",
   "execution_count": 320,
   "metadata": {},
   "outputs": [],
   "source": [
    "#CONTRIBUIÇÃO NORMAL - ANO2\n",
    "time.sleep(t)\n",
    "pyperclip.copy(str(cn_ano2))\n",
    "pyautogui.click(x = f , y = b, clicks= 2)\n",
    "pyautogui.hotkey('ctrl', 'v')"
   ]
  },
  {
   "cell_type": "code",
   "execution_count": 321,
   "metadata": {},
   "outputs": [
    {
     "data": {
      "text/plain": [
       "682"
      ]
     },
     "metadata": {},
     "output_type": "display_data"
    }
   ],
   "source": [
    "#ESTATÍSTICAS DA POPULAÇÃO COBERTA  - ANO2\n",
    "time.sleep(t)\n",
    "i = b + (3*20)\n",
    "for n in estatistica_ano2.index:\n",
    "    x = estatistica_ano2[n]\n",
    "    pyautogui.click(x = f, y = i, clicks= 2)\n",
    "    pyperclip.copy(str(x))\n",
    "    pyautogui.hotkey('ctrl', 'v')\n",
    "    pyautogui.press('enter')\n",
    "    i = i + 20\n",
    "pyautogui.press('enter')\n",
    "display(i)"
   ]
  },
  {
   "cell_type": "code",
   "execution_count": 322,
   "metadata": {},
   "outputs": [],
   "source": [
    "#MÉTODO - ANO2\n",
    "time.sleep(t)\n",
    "pyautogui.click(x = f , y = (i + (2*d)), clicks= 2)\n",
    "pyautogui.hotkey('ctrl', 'a')\n",
    "pyautogui.press('delete')\n",
    "pyperclip.copy(str(metodo_ano2))\n",
    "pyautogui.hotkey('ctrl', 'v')\n",
    "pyautogui.press('down')"
   ]
  },
  {
   "cell_type": "code",
   "execution_count": 323,
   "metadata": {},
   "outputs": [
    {
     "data": {
      "text/plain": [
       "682"
      ]
     },
     "metadata": {},
     "output_type": "display_data"
    }
   ],
   "source": [
    "#DESCENCO A JANELA\n",
    "time.sleep(t)\n",
    "for n in range(19):\n",
    "    pyautogui.press('enter')\n",
    "    \n",
    "display(i)"
   ]
  },
  {
   "cell_type": "code",
   "execution_count": 324,
   "metadata": {},
   "outputs": [
    {
     "data": {
      "text/plain": [
       "790"
      ]
     },
     "metadata": {},
     "output_type": "display_data"
    }
   ],
   "source": [
    "#VALORES DOS COMPROMISSOS - ANO2\n",
    "time.sleep(t)\n",
    "i = i - 4*d\n",
    "pyautogui.click(x=f, y=i, clicks = 2)\n",
    "\n",
    "for n in vl_dos_compromissos_ano2.index:\n",
    "    x = vl_dos_compromissos_ano2[n]\n",
    "    pyautogui.click(x = f, y = i, clicks = 2)\n",
    "    pyperclip.copy(str(x))\n",
    "    pyautogui.hotkey('ctrl', 'v')\n",
    "    pyautogui.press('enter')\n",
    "    i = i + 20\n",
    "pyautogui.press('tab')\n",
    "display(i)\n"
   ]
  },
  {
   "cell_type": "code",
   "execution_count": 325,
   "metadata": {},
   "outputs": [
    {
     "data": {
      "text/plain": [
       "890"
      ]
     },
     "metadata": {},
     "output_type": "display_data"
    }
   ],
   "source": [
    "#CUSTO ANUAL PREVISTO - ANO2\n",
    "time.sleep(t)\n",
    "i = i + 40\n",
    "pyautogui.click(x=a, y=i, clicks = 2) \n",
    "\n",
    "for n in custo_anual_prev_ano2.index:\n",
    "    x = custo_anual_prev_ano2[n]\n",
    "    pyautogui.click(x=f, y=i, clicks = 2) \n",
    "    pyperclip.copy(str(x))\n",
    "    pyautogui.hotkey('ctrl', 'v')\n",
    "    pyautogui.press('enter')\n",
    "    i = i + 20\n",
    "pyautogui.press('tab')\n",
    "display(i)\n"
   ]
  },
  {
   "cell_type": "code",
   "execution_count": 326,
   "metadata": {},
   "outputs": [
    {
     "data": {
      "text/plain": [
       "950"
      ]
     },
     "metadata": {},
     "output_type": "display_data"
    }
   ],
   "source": [
    "#ALIQUOTAS - ANO2\n",
    "time.sleep(t)\n",
    "\n",
    "i = i + 20\n",
    "pyautogui.click(x=f, y=i, clicks = 2) \n",
    "\n",
    "for n in aliquotas_ano1.index:\n",
    "    x = aliquotas_ano1[n]\n",
    "    pyautogui.click(x=f, y=i, clicks = 2) \n",
    "    pyperclip.copy(str(x))\n",
    "    pyautogui.hotkey('ctrl', 'v')\n",
    "    pyautogui.press('enter')\n",
    "    i = i + 20\n",
    "pyautogui.press('tab')\n",
    "display(i)"
   ]
  },
  {
   "cell_type": "code",
   "execution_count": 327,
   "metadata": {},
   "outputs": [],
   "source": [
    "#VOLTANDO AO TOPO\n",
    "time.sleep(t)\n",
    "pyautogui.press('enter')"
   ]
  },
  {
   "cell_type": "code",
   "execution_count": 328,
   "metadata": {},
   "outputs": [],
   "source": [
    "#CONTRIBUIÇÃO NORMAL - ANO3\n",
    "time.sleep(t)\n",
    "pyperclip.copy(str(cn_ano3))\n",
    "pyautogui.click(x = g , y = b, clicks= 2)\n",
    "pyautogui.hotkey('ctrl', 'v')"
   ]
  },
  {
   "cell_type": "code",
   "execution_count": 329,
   "metadata": {},
   "outputs": [
    {
     "data": {
      "text/plain": [
       "682"
      ]
     },
     "metadata": {},
     "output_type": "display_data"
    }
   ],
   "source": [
    "#ESTATÍSTICAS DA POPULAÇÃO COBERTA  - ANO3\n",
    "time.sleep(t)\n",
    "i = b + (3*20)\n",
    "pyautogui.click(x=g, y=b, clicks = 2) \n",
    "\n",
    "for n in estatistica_ano3.index:\n",
    "    x = estatistica_ano3[n]\n",
    "    pyautogui.click(x=g, y=i, clicks = 2) \n",
    "    pyperclip.copy(str(x))\n",
    "    pyautogui.hotkey('ctrl', 'v')\n",
    "    pyautogui.press('enter')\n",
    "    pyautogui.press('down')\n",
    "    i = i + 20\n",
    "display(i)"
   ]
  },
  {
   "cell_type": "code",
   "execution_count": 330,
   "metadata": {},
   "outputs": [],
   "source": [
    "#MÉTODO  - ANO3\n",
    "time.sleep(t)\n",
    "pyautogui.click(x = g , y = (i + (2*d)), clicks= 2)\n",
    "pyautogui.hotkey('ctrl', 'a')\n",
    "pyautogui.press('delete')\n",
    "pyperclip.copy(str(metodo_ano3))\n",
    "pyautogui.hotkey('ctrl', 'v')\n",
    "pyautogui.press('down')"
   ]
  },
  {
   "cell_type": "code",
   "execution_count": 331,
   "metadata": {},
   "outputs": [],
   "source": [
    "#DESCENCO A JANELA\n",
    "time.sleep(t)\n",
    "for n in range(19):\n",
    "    pyautogui.press('enter')"
   ]
  },
  {
   "cell_type": "code",
   "execution_count": 332,
   "metadata": {},
   "outputs": [
    {
     "data": {
      "text/plain": [
       "790"
      ]
     },
     "metadata": {},
     "output_type": "display_data"
    }
   ],
   "source": [
    "#VALORES DOS COMPROMISSOS - ANO3\n",
    "time.sleep(t)\n",
    "i = i - 4*d\n",
    "pyautogui.click(x=g, y=i, clicks = 2)\n",
    "\n",
    "for n in vl_dos_compromissos_ano2.index:\n",
    "    x = vl_dos_compromissos_ano2[n]\n",
    "    pyautogui.click(x = g, y = i, clicks = 2)\n",
    "    pyperclip.copy(str(x))\n",
    "    pyautogui.hotkey('ctrl', 'v')\n",
    "    pyautogui.press('enter')\n",
    "    i = i + 20\n",
    "pyautogui.press('tab')\n",
    "display(i)"
   ]
  },
  {
   "cell_type": "code",
   "execution_count": 333,
   "metadata": {},
   "outputs": [
    {
     "data": {
      "text/plain": [
       "890"
      ]
     },
     "metadata": {},
     "output_type": "display_data"
    }
   ],
   "source": [
    "#CUSTO ANUAL PREVISTO - ANO3\n",
    "time.sleep(t)\n",
    "i = i + 40\n",
    "pyautogui.click(x=g, y=i, clicks = 2) \n",
    "\n",
    "for n in custo_anual_prev_ano2.index:\n",
    "    x = custo_anual_prev_ano2[n]\n",
    "    pyautogui.click(x=g, y=i, clicks = 2) \n",
    "    pyperclip.copy(str(x))\n",
    "    pyautogui.hotkey('ctrl', 'v')\n",
    "    pyautogui.press('enter')\n",
    "    i = i + 20\n",
    "pyautogui.press('tab')\n",
    "display(i)"
   ]
  },
  {
   "cell_type": "code",
   "execution_count": 334,
   "metadata": {},
   "outputs": [
    {
     "data": {
      "text/plain": [
       "950"
      ]
     },
     "metadata": {},
     "output_type": "display_data"
    }
   ],
   "source": [
    "#ALIQUOTAS - ANO2\n",
    "time.sleep(t)\n",
    "\n",
    "i = i + 20\n",
    "pyautogui.click(x=g, y=i, clicks = 2) \n",
    "\n",
    "for n in aliquotas_ano1.index:\n",
    "    x = aliquotas_ano1[n]\n",
    "    pyautogui.click(x=g, y=i, clicks = 2) \n",
    "    pyperclip.copy(str(x))\n",
    "    pyautogui.hotkey('ctrl', 'v')\n",
    "    pyautogui.press('enter')\n",
    "    i = i + 20\n",
    "pyautogui.press('tab')\n",
    "display(i)"
   ]
  }
 ],
 "metadata": {
  "kernelspec": {
   "display_name": "Python 3.11.0 64-bit",
   "language": "python",
   "name": "python3"
  },
  "language_info": {
   "codemirror_mode": {
    "name": "ipython",
    "version": 3
   },
   "file_extension": ".py",
   "mimetype": "text/x-python",
   "name": "python",
   "nbconvert_exporter": "python",
   "pygments_lexer": "ipython3",
   "version": "3.11.0 (main, Oct 24 2022, 18:26:48) [MSC v.1933 64 bit (AMD64)]"
  },
  "orig_nbformat": 4,
  "vscode": {
   "interpreter": {
    "hash": "963839805469506d869b787f0b31e17a3814d794973f453d6749ac9bc0846d0c"
   }
  }
 },
 "nbformat": 4,
 "nbformat_minor": 2
}
